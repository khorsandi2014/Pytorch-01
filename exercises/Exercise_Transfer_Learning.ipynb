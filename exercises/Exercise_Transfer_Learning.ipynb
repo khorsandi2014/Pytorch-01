{
  "nbformat": 4,
  "nbformat_minor": 0,
  "metadata": {
    "colab": {
      "name": "Exercise_Transfer_Learning.ipynb",
      "provenance": [],
      "collapsed_sections": []
    },
    "kernelspec": {
      "name": "python3",
      "display_name": "Python 3"
    },
    "language_info": {
      "name": "python"
    },
    "accelerator": "GPU"
  },
  "cells": [
    {
      "cell_type": "markdown",
      "metadata": {
        "id": "n8ad6pjIWCah"
      },
      "source": [
        "# Download the Ants vs Bees dataset"
      ]
    },
    {
      "cell_type": "code",
      "metadata": {
        "id": "Gjo13lgmSYcD"
      },
      "source": [
        "%%bash\n",
        "wget -q https://download.pytorch.org/tutorial/hymenoptera_data.zip\n",
        "unzip -q hymenoptera_data.zip\n",
        "ls -l hymenoptera_data"
      ],
      "execution_count": null,
      "outputs": []
    },
    {
      "cell_type": "markdown",
      "metadata": {
        "id": "0RkXUOmvWHj5"
      },
      "source": [
        "# Start with the usual imports and config"
      ]
    },
    {
      "cell_type": "code",
      "metadata": {
        "id": "FiY-HbSER-Xi"
      },
      "source": [
        "import time\n",
        "import os\n",
        "import copy\n",
        "import torch as pt\n",
        "import numpy as np\n",
        "import matplotlib.pyplot as plt\n",
        "\n",
        "device = pt.device(\"cuda:0\" if pt.cuda.is_available() else \"cpu\")"
      ],
      "execution_count": null,
      "outputs": []
    },
    {
      "cell_type": "code",
      "metadata": {
        "id": "CYjyLVUwSFmB"
      },
      "source": [
        "from torchvision import transforms\n",
        "\n",
        "mean = np.array([0.5, 0.5, 0.5])\n",
        "std = np.array([0.25, 0.25, 0.25])\n",
        "\n",
        "data_transforms = {\n",
        "    'train': transforms.Compose([\n",
        "        transforms.RandomResizedCrop(224),\n",
        "        transforms.RandomHorizontalFlip(),\n",
        "        transforms.ToTensor(),\n",
        "        transforms.Normalize(mean, std)\n",
        "    ]),\n",
        "    'val': transforms.Compose([\n",
        "        transforms.Resize(256),\n",
        "        transforms.CenterCrop(224),\n",
        "        transforms.ToTensor(),\n",
        "        transforms.Normalize(mean, std)\n",
        "    ]),\n",
        "}\n",
        "data_transforms"
      ],
      "execution_count": null,
      "outputs": []
    },
    {
      "cell_type": "code",
      "metadata": {
        "id": "B4Z69qE_S2Be"
      },
      "source": [
        "from torchvision import datasets\n",
        "\n",
        "data_dir = 'hymenoptera_data'\n",
        "image_datasets = {x: datasets.ImageFolder(os.path.join(data_dir, x),\n",
        "                                          data_transforms[x])\n",
        "                  for x in ['train', 'val']}\n",
        "\n",
        "dataloaders = {x: pt.utils.data.DataLoader(image_datasets[x], batch_size=4,\n",
        "                                             shuffle=True, num_workers=os.cpu_count())\n",
        "              for x in ['train', 'val']}\n",
        "\n",
        "dataset_sizes = {x: len(image_datasets[x]) for x in ['train', 'val']}\n",
        "class_names = image_datasets['train'].classes\n",
        "\n",
        "class_names"
      ],
      "execution_count": null,
      "outputs": []
    },
    {
      "cell_type": "markdown",
      "metadata": {
        "id": "s62RXCnSXP9i"
      },
      "source": [
        "# Declare the `imshow` method to preview an image tensor"
      ]
    },
    {
      "cell_type": "code",
      "metadata": {
        "id": "BmTvezklXPFN"
      },
      "source": [
        "def imshow(inp, title):\n",
        "    \"\"\"Imshow for Tensor.\"\"\"\n",
        "    inp = inp.numpy().transpose((1, 2, 0))\n",
        "    inp = std * inp + mean\n",
        "    inp = np.clip(inp, 0, 1)\n",
        "    plt.imshow(inp)\n",
        "    plt.title(title)\n",
        "    plt.show()"
      ],
      "execution_count": null,
      "outputs": []
    },
    {
      "cell_type": "markdown",
      "metadata": {
        "id": "MCt8G6PCXGwI"
      },
      "source": [
        "# Use `torchvision.utils` and `imshow` to preview the training data\n",
        "* **TODO:** Make sure you can render at least 4 images as the preview"
      ]
    },
    {
      "cell_type": "code",
      "metadata": {
        "id": "UTcbxk-yTXSL"
      },
      "source": [
        ""
      ],
      "execution_count": null,
      "outputs": []
    },
    {
      "cell_type": "markdown",
      "metadata": {
        "id": "XqcfEHgxXlx_"
      },
      "source": [
        "# Declare a re-usable `train` method"
      ]
    },
    {
      "cell_type": "code",
      "metadata": {
        "id": "vHNAWzhHTgfV"
      },
      "source": [
        "def train(model, loss_fn, optimizer, scheduler = None, num_epochs=25):\n",
        "    since = time.time()\n",
        "\n",
        "    best_model_wts = copy.deepcopy(model.state_dict())\n",
        "    best_acc = 0.0\n",
        "\n",
        "    for epoch in range(num_epochs):\n",
        "        # Each epoch has a training and validation phase\n",
        "        for phase in ['train', 'val']:\n",
        "            if phase == 'train':\n",
        "                model.train()  # Set model to training mode\n",
        "            else:\n",
        "                model.eval()   # Set model to evaluate mode\n",
        "\n",
        "            running_loss = 0.0\n",
        "            running_corrects = 0\n",
        "\n",
        "            # Iterate over data.\n",
        "            for inputs, labels in dataloaders[phase]:\n",
        "                inputs = inputs.to(device)\n",
        "                labels = labels.to(device)\n",
        "\n",
        "                # forward\n",
        "                # track history if only in train\n",
        "                with pt.set_grad_enabled(phase == 'train'):\n",
        "                    outputs = model(inputs)\n",
        "                    _, preds = pt.max(outputs, 1)\n",
        "                    loss = loss_fn(outputs, labels)\n",
        "\n",
        "                    # backward + optimize only if in training phase\n",
        "                    if phase == 'train':\n",
        "                        optimizer.zero_grad()\n",
        "                        loss.backward()\n",
        "                        optimizer.step()\n",
        "\n",
        "                # statistics\n",
        "                running_loss += loss.item() * inputs.size(0)\n",
        "                running_corrects += pt.sum(preds == labels.data)\n",
        "\n",
        "            if phase == 'train' and scheduler is not None:\n",
        "                scheduler.step()\n",
        "\n",
        "            epoch_loss = running_loss / dataset_sizes[phase]\n",
        "            epoch_acc = running_corrects.double() / dataset_sizes[phase]\n",
        "\n",
        "            print(f'{phase}: Epoch {epoch}/{num_epochs - 1} Loss: {epoch_loss:.4f} Acc: {epoch_acc:.4f}')\n",
        "\n",
        "            # deep copy the model\n",
        "            if phase == 'val' and epoch_acc > best_acc:\n",
        "                best_acc = epoch_acc\n",
        "                best_model_wts = copy.deepcopy(model.state_dict())\n",
        "\n",
        "        print()\n",
        "\n",
        "    time_elapsed = time.time() - since\n",
        "    print(f'Training complete in {time_elapsed // 60:.0f}m {time_elapsed % 60:.0f}s')\n",
        "    print(f'Best val Acc: {best_acc:4f}')\n",
        "\n",
        "    # load best model weights\n",
        "    model.load_state_dict(best_model_wts)\n",
        "    return model"
      ],
      "execution_count": null,
      "outputs": []
    },
    {
      "cell_type": "markdown",
      "metadata": {
        "id": "wLfy9dL5VyYJ"
      },
      "source": [
        "# Use the `resnet18` model from `torchvision.models` for this exercise\n",
        "* **TODO:** Make sure that you download the `pretrained=True` version of the model"
      ]
    },
    {
      "cell_type": "code",
      "metadata": {
        "id": "aJLBRHbaR8lD"
      },
      "source": [
        ""
      ],
      "execution_count": null,
      "outputs": []
    },
    {
      "cell_type": "markdown",
      "metadata": {
        "id": "Q-xFd9M_Sq2E"
      },
      "source": [
        "# Set `requires_grad == False` to freeze the model parameters so that the gradients are not computed in `backward()`\n"
      ]
    },
    {
      "cell_type": "code",
      "metadata": {
        "id": "LpPLoFPcSG_p"
      },
      "source": [
        ""
      ],
      "execution_count": null,
      "outputs": []
    },
    {
      "cell_type": "markdown",
      "metadata": {
        "id": "uRxlsmSiYBG4"
      },
      "source": [
        "# Figure out the number of input features in the last `nn.Linear` layer of the model"
      ]
    },
    {
      "cell_type": "code",
      "metadata": {
        "id": "wHUH-5ABSKvj"
      },
      "source": [
        ""
      ],
      "execution_count": null,
      "outputs": []
    },
    {
      "cell_type": "markdown",
      "metadata": {
        "id": "Q42-LzIFYNLV"
      },
      "source": [
        "# Replace the last layer of the model with a new `nn.Linear` layer for the classifier"
      ]
    },
    {
      "cell_type": "code",
      "metadata": {
        "id": "6SOWd6wsSxKv"
      },
      "source": [
        ""
      ],
      "execution_count": null,
      "outputs": []
    },
    {
      "cell_type": "markdown",
      "metadata": {
        "id": "YXqvx83DSdzG"
      },
      "source": [
        "# Check that parameters of newly constructed modules have requires_grad=True by default\n"
      ]
    },
    {
      "cell_type": "code",
      "metadata": {
        "id": "VGtfKUovSZtM"
      },
      "source": [
        ""
      ],
      "execution_count": null,
      "outputs": []
    },
    {
      "cell_type": "markdown",
      "metadata": {
        "id": "mkdu-kxuSyz8"
      },
      "source": [
        "# Move the transfer learning model to the GPU"
      ]
    },
    {
      "cell_type": "code",
      "metadata": {
        "id": "af5hYrslYjYw"
      },
      "source": [
        ""
      ],
      "execution_count": null,
      "outputs": []
    },
    {
      "cell_type": "markdown",
      "metadata": {
        "id": "h9anOterYlI3"
      },
      "source": [
        "# Use the `train` method to transfer learn the model\n",
        "\n",
        "* use the `CrossEntropyLoss`\n",
        "* use `SGD` only on the parameters of the last `Linear` layer\n",
        "* use `SGD` learning rate of `0.001` and momentum of `0.9`"
      ]
    },
    {
      "cell_type": "code",
      "metadata": {
        "id": "zORbXhQNVtOF"
      },
      "source": [
        ""
      ],
      "execution_count": null,
      "outputs": []
    }
  ]
}