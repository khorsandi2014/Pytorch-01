{
  "nbformat": 4,
  "nbformat_minor": 0,
  "metadata": {
    "colab": {
      "name": "Exercise_PyTorch_Dataset_Dataloader.ipynb",
      "provenance": [],
      "collapsed_sections": [],
      "machine_shape": "hm"
    },
    "kernelspec": {
      "name": "python3",
      "display_name": "Python 3"
    },
    "accelerator": "GPU"
  },
  "cells": [
    {
      "cell_type": "markdown",
      "metadata": {
        "id": "6frta3QvWh-Y"
      },
      "source": [
        "## **TODO:** Set the value of `URL` to the URL from your learning materials"
      ]
    },
    {
      "cell_type": "code",
      "metadata": {
        "id": "_rk62eHfWk_V"
      },
      "source": [
        "# URL = \"https://drive.google.com/file/d/1ublxmIEiFoWcc7gUS66eyFC4tJKON5GG/view?usp=sharing\"\n",
        "# import os\n",
        "# assert URL and (type(URL) is str), \"Be sure to initialize URL using the value from your learning materials\"\n",
        "# os.environ['URL'] = URL"
      ],
      "execution_count": 13,
      "outputs": []
    },
    {
      "cell_type": "code",
      "metadata": {
        "id": "16MHGbOKWm1m",
        "colab": {
          "base_uri": "https://localhost:8080/"
        },
        "outputId": "39d44d7e-90f6-4df4-f6d1-79a9e020ec4b"
      },
      "source": [
        "# %%bash\n",
        "# #wget -q $URL -O ./data.zip\n",
        "\n",
        "# mkdir -p data\n",
        "# find *.zip | xargs unzip -o -d data/"
      ],
      "execution_count": 23,
      "outputs": [
        {
          "output_type": "stream",
          "name": "stdout",
          "text": [
            "Archive:  data.zip\n"
          ]
        },
        {
          "output_type": "stream",
          "name": "stderr",
          "text": [
            "  End-of-central-directory signature not found.  Either this file is not\n",
            "  a zipfile, or it constitutes one disk of a multi-part archive.  In the\n",
            "  latter case the central directory and zipfile comment will be found on\n",
            "  the last disk(s) of this archive.\n",
            "unzip:  cannot find zipfile directory in one of data.zip or\n",
            "        data.zip.zip, and cannot find data.zip.ZIP, period.\n"
          ]
        }
      ]
    },
    {
      "cell_type": "markdown",
      "metadata": {
        "id": "10tz4FdX0Ski"
      },
      "source": [
        "1- Download the data from the following link (google drive)\n",
        "\n",
        "2- unzip\n",
        "\n",
        "3- upload to colab\n"
      ]
    },
    {
      "cell_type": "code",
      "metadata": {
        "id": "DhAQ3G0J0RxY"
      },
      "source": [
        ""
      ],
      "execution_count": null,
      "outputs": []
    },
    {
      "cell_type": "markdown",
      "metadata": {
        "id": "oM4HI-kC0IRf"
      },
      "source": [
        "https://drive.google.com/file/d/1ublxmIEiFoWcc7gUS66eyFC4tJKON5GG/view?usp=sharing"
      ]
    },
    {
      "cell_type": "markdown",
      "metadata": {
        "id": "1-mOZ6oR8q6K"
      },
      "source": [
        "## Use PyTorch `Dataset` and `Dataloader` with a structured dataset"
      ]
    },
    {
      "cell_type": "code",
      "metadata": {
        "id": "3oKWxWlmun66"
      },
      "source": [
        "import os\n",
        "\n",
        "import pandas as pd\n",
        "import torch as pt\n",
        "\n",
        "from torch import nn\n",
        "from torch.utils.data import DataLoader\n",
        "from torch.utils.data import TensorDataset\n",
        "\n",
        "pt.set_default_dtype(pt.float64)"
      ],
      "execution_count": 28,
      "outputs": []
    },
    {
      "cell_type": "markdown",
      "metadata": {
        "id": "4p8W9ZSL9I9w"
      },
      "source": [
        "Read the files that match `part-*.csv` from the `data` subdirectory into a Pandas data frame named `df`."
      ]
    },
    {
      "cell_type": "code",
      "metadata": {
        "id": "I3fr0_i_YEFf"
      },
      "source": [
        "from pathlib import Path\n",
        "\n",
        "df = pd.concat(\n",
        "    pd.read_csv(file) for file in Path('').glob('part-*.csv')\n",
        ")\n"
      ],
      "execution_count": 29,
      "outputs": []
    },
    {
      "cell_type": "markdown",
      "metadata": {
        "id": "6RULBK-A9X7D"
      },
      "source": [
        "## Explore the `df` data frame, including the column names, the first few rows of the dataset, and the data frame's memory usage."
      ]
    },
    {
      "cell_type": "code",
      "metadata": {
        "id": "3vDc_ZNI9ilK",
        "colab": {
          "base_uri": "https://localhost:8080/",
          "height": 444
        },
        "outputId": "ef24f4a2-faa5-4b77-b2be-32f00b13a3ad"
      },
      "source": [
        "df"
      ],
      "execution_count": 30,
      "outputs": [
        {
          "output_type": "execute_result",
          "data": {
            "text/html": [
              "<div>\n",
              "<style scoped>\n",
              "    .dataframe tbody tr th:only-of-type {\n",
              "        vertical-align: middle;\n",
              "    }\n",
              "\n",
              "    .dataframe tbody tr th {\n",
              "        vertical-align: top;\n",
              "    }\n",
              "\n",
              "    .dataframe thead th {\n",
              "        text-align: right;\n",
              "    }\n",
              "</style>\n",
              "<table border=\"1\" class=\"dataframe\">\n",
              "  <thead>\n",
              "    <tr style=\"text-align: right;\">\n",
              "      <th></th>\n",
              "      <th>fareamount</th>\n",
              "      <th>origindatetime_tr</th>\n",
              "      <th>origin_block_latitude</th>\n",
              "      <th>origin_block_longitude</th>\n",
              "      <th>destination_block_latitude</th>\n",
              "      <th>destination_block_longitude</th>\n",
              "      <th>id</th>\n",
              "    </tr>\n",
              "  </thead>\n",
              "  <tbody>\n",
              "    <tr>\n",
              "      <th>0</th>\n",
              "      <td>4.60</td>\n",
              "      <td>09/04/2018 00:00</td>\n",
              "      <td>38.898318</td>\n",
              "      <td>-77.032800</td>\n",
              "      <td>38.899817</td>\n",
              "      <td>-77.026514</td>\n",
              "      <td>NaN</td>\n",
              "    </tr>\n",
              "    <tr>\n",
              "      <th>1</th>\n",
              "      <td>7.30</td>\n",
              "      <td>09/04/2018 00:00</td>\n",
              "      <td>38.888945</td>\n",
              "      <td>-77.039490</td>\n",
              "      <td>38.899817</td>\n",
              "      <td>-77.026514</td>\n",
              "      <td>NaN</td>\n",
              "    </tr>\n",
              "    <tr>\n",
              "      <th>2</th>\n",
              "      <td>5.14</td>\n",
              "      <td>09/04/2018 00:00</td>\n",
              "      <td>38.909652</td>\n",
              "      <td>-77.033254</td>\n",
              "      <td>38.918610</td>\n",
              "      <td>-77.035028</td>\n",
              "      <td>NaN</td>\n",
              "    </tr>\n",
              "    <tr>\n",
              "      <th>3</th>\n",
              "      <td>11.67</td>\n",
              "      <td>09/04/2018 00:00</td>\n",
              "      <td>38.896667</td>\n",
              "      <td>-76.982929</td>\n",
              "      <td>38.854779</td>\n",
              "      <td>-76.974019</td>\n",
              "      <td>NaN</td>\n",
              "    </tr>\n",
              "    <tr>\n",
              "      <th>4</th>\n",
              "      <td>10.27</td>\n",
              "      <td>09/04/2018 00:00</td>\n",
              "      <td>38.897204</td>\n",
              "      <td>-77.008388</td>\n",
              "      <td>38.907244</td>\n",
              "      <td>-77.045287</td>\n",
              "      <td>NaN</td>\n",
              "    </tr>\n",
              "    <tr>\n",
              "      <th>...</th>\n",
              "      <td>...</td>\n",
              "      <td>...</td>\n",
              "      <td>...</td>\n",
              "      <td>...</td>\n",
              "      <td>...</td>\n",
              "      <td>...</td>\n",
              "      <td>...</td>\n",
              "    </tr>\n",
              "    <tr>\n",
              "      <th>451328</th>\n",
              "      <td>9.46</td>\n",
              "      <td>08/15/2015 17:00</td>\n",
              "      <td>38.890500</td>\n",
              "      <td>-77.025048</td>\n",
              "      <td>38.904238</td>\n",
              "      <td>-77.040299</td>\n",
              "      <td>4d902382bd35612a059f0f3e948b95f3801aaf1c1f9afc...</td>\n",
              "    </tr>\n",
              "    <tr>\n",
              "      <th>451329</th>\n",
              "      <td>6.76</td>\n",
              "      <td>08/15/2015 18:00</td>\n",
              "      <td>38.896131</td>\n",
              "      <td>-77.023460</td>\n",
              "      <td>38.884205</td>\n",
              "      <td>-77.029111</td>\n",
              "      <td>7da0190a2d987227dd1b12ab476a2ca7c5bfb385681376...</td>\n",
              "    </tr>\n",
              "    <tr>\n",
              "      <th>451330</th>\n",
              "      <td>11.89</td>\n",
              "      <td>08/14/2015 11:00</td>\n",
              "      <td>38.892013</td>\n",
              "      <td>-77.007038</td>\n",
              "      <td>38.919922</td>\n",
              "      <td>-77.028828</td>\n",
              "      <td>864a759a095193883bc9f48f2c168b009927a51873d154...</td>\n",
              "    </tr>\n",
              "    <tr>\n",
              "      <th>451331</th>\n",
              "      <td>8.11</td>\n",
              "      <td>08/14/2015 20:00</td>\n",
              "      <td>38.911498</td>\n",
              "      <td>-77.031951</td>\n",
              "      <td>38.932947</td>\n",
              "      <td>-77.036456</td>\n",
              "      <td>1a4dff913ed8bca66af48ad506d901c2acd6b63d7de243...</td>\n",
              "    </tr>\n",
              "    <tr>\n",
              "      <th>451332</th>\n",
              "      <td>7.39</td>\n",
              "      <td>08/15/2015 20:00</td>\n",
              "      <td>38.908574</td>\n",
              "      <td>-77.023456</td>\n",
              "      <td>38.908039</td>\n",
              "      <td>-77.031950</td>\n",
              "      <td>1519c9613457360e8c0e8b875c4f1e33b81b74357668bb...</td>\n",
              "    </tr>\n",
              "  </tbody>\n",
              "</table>\n",
              "<p>1832681 rows × 7 columns</p>\n",
              "</div>"
            ],
            "text/plain": [
              "        fareamount  ...                                                 id\n",
              "0             4.60  ...                                                NaN\n",
              "1             7.30  ...                                                NaN\n",
              "2             5.14  ...                                                NaN\n",
              "3            11.67  ...                                                NaN\n",
              "4            10.27  ...                                                NaN\n",
              "...            ...  ...                                                ...\n",
              "451328        9.46  ...  4d902382bd35612a059f0f3e948b95f3801aaf1c1f9afc...\n",
              "451329        6.76  ...  7da0190a2d987227dd1b12ab476a2ca7c5bfb385681376...\n",
              "451330       11.89  ...  864a759a095193883bc9f48f2c168b009927a51873d154...\n",
              "451331        8.11  ...  1a4dff913ed8bca66af48ad506d901c2acd6b63d7de243...\n",
              "451332        7.39  ...  1519c9613457360e8c0e8b875c4f1e33b81b74357668bb...\n",
              "\n",
              "[1832681 rows x 7 columns]"
            ]
          },
          "metadata": {},
          "execution_count": 30
        }
      ]
    },
    {
      "cell_type": "code",
      "metadata": {
        "id": "uY4lLvmL9kne"
      },
      "source": [
        ""
      ],
      "execution_count": null,
      "outputs": []
    },
    {
      "cell_type": "markdown",
      "metadata": {
        "id": "D-kVFhml9p0x"
      },
      "source": [
        "## Drop the `origindatetime_tr` column from the data frame. \n",
        "\n",
        "For now you are going to predict the taxi fare just based on the lat/lon coordinates of the pickup and the drop off locations. Remove the `origindatetime_tr` column from the data frame in your working dataset."
      ]
    },
    {
      "cell_type": "code",
      "metadata": {
        "id": "jhZpJTVZaas_"
      },
      "source": [
        ""
      ],
      "execution_count": null,
      "outputs": []
    },
    {
      "cell_type": "markdown",
      "metadata": {
        "id": "6aA0NkUA_x1M"
      },
      "source": [
        "## Sample 10% of your working dataset into a test dataset data frame\n",
        "\n",
        "* **hint:** use the Pandas `sample` function with the dataframe. Specify a value for the `random_state` to achieve reproducibility."
      ]
    },
    {
      "cell_type": "code",
      "metadata": {
        "id": "nsh_vPXiZr9J"
      },
      "source": [
        ""
      ],
      "execution_count": null,
      "outputs": []
    },
    {
      "cell_type": "markdown",
      "metadata": {
        "id": "u5FschugACN-"
      },
      "source": [
        "## Drop the rows that exist in your test dataset from the working dataset to produce a training dataset.\n",
        "\n",
        "* **hint** DataFrame's `drop` function can use index values from a data frame to drop specific rows."
      ]
    },
    {
      "cell_type": "code",
      "metadata": {
        "id": "CT-b2IlIZ9FP"
      },
      "source": [
        ""
      ],
      "execution_count": null,
      "outputs": []
    },
    {
      "cell_type": "markdown",
      "metadata": {
        "id": "5R0P1sBeAX15"
      },
      "source": [
        "## Define 2 Python lists: 1st for the feature column names; 2nd for the target column name"
      ]
    },
    {
      "cell_type": "code",
      "metadata": {
        "id": "s62k_A-Ga-0x"
      },
      "source": [
        ""
      ],
      "execution_count": null,
      "outputs": []
    },
    {
      "cell_type": "markdown",
      "metadata": {
        "id": "ttQDA-m8AgQx"
      },
      "source": [
        "## Create `X` and `y` tensors with the values of your feature and target columns in the training dataset"
      ]
    },
    {
      "cell_type": "code",
      "metadata": {
        "id": "hX2dlZgpbA6I"
      },
      "source": [
        ""
      ],
      "execution_count": null,
      "outputs": []
    },
    {
      "cell_type": "markdown",
      "metadata": {
        "id": "NQm_SJFDAqqn"
      },
      "source": [
        "## Create a `TensorDataset` instance with the `y` and `X` tensors (in that order)"
      ]
    },
    {
      "cell_type": "code",
      "metadata": {
        "id": "ffqTuheNbLpj"
      },
      "source": [
        ""
      ],
      "execution_count": null,
      "outputs": []
    },
    {
      "cell_type": "markdown",
      "metadata": {
        "id": "ElrnaKEtAyEg"
      },
      "source": [
        "## Create a `DataLoader` instance specifying a custom batch size\n",
        "\n",
        "A batch size of `2 ** 18 = 262,144` should work well."
      ]
    },
    {
      "cell_type": "code",
      "metadata": {
        "id": "-1YyY4tgbalF"
      },
      "source": [
        ""
      ],
      "execution_count": null,
      "outputs": []
    },
    {
      "cell_type": "markdown",
      "metadata": {
        "id": "IA-3bXKABCW_"
      },
      "source": [
        "## Create a model using `nn.Linear`"
      ]
    },
    {
      "cell_type": "code",
      "metadata": {
        "id": "6vYGtKDeajQk"
      },
      "source": [
        ""
      ],
      "execution_count": null,
      "outputs": []
    },
    {
      "cell_type": "markdown",
      "metadata": {
        "id": "tz7LW-TnBNJu"
      },
      "source": [
        "## Declare your `forward`, `loss` and `metric` functions\n",
        "\n",
        "* **hint:** if you are tired of computing MSE by hand you can use `nn.functional.mse_loss` instead."
      ]
    },
    {
      "cell_type": "code",
      "metadata": {
        "id": "0T3aWJEZdiVH"
      },
      "source": [
        ""
      ],
      "execution_count": null,
      "outputs": []
    },
    {
      "cell_type": "markdown",
      "metadata": {
        "id": "zfu2ejeoBfpQ"
      },
      "source": [
        "## Iterate over the batches returned by your `DataLoader` instance\n",
        "\n",
        "For every step of gradient descent, print out the MSE, RMSE, and the batch index\n",
        "* **hint:** you can use Python's `enumerable` for an iterable\n",
        "* **hint:** the batch returned by the `enumerable` has the same contents as your `TensorDataset` instance"
      ]
    },
    {
      "cell_type": "code",
      "metadata": {
        "id": "bVjF8VYwbATZ"
      },
      "source": [
        ""
      ],
      "execution_count": null,
      "outputs": []
    },
    {
      "cell_type": "markdown",
      "metadata": {
        "id": "gVl44Jq5CApl"
      },
      "source": [
        "## Implement 10 epochs of gradient descent training\n",
        "\n",
        "For every step of gradient descent, printout the MSE, RMSE, epoch index, and batch index.\n",
        "\n",
        "* **hint:** you can call `enumerate(DataLoader)` repeatedly in a `for` loop"
      ]
    },
    {
      "cell_type": "code",
      "metadata": {
        "id": "hHtI3TB8ewaF"
      },
      "source": [
        ""
      ],
      "execution_count": null,
      "outputs": []
    },
    {
      "cell_type": "markdown",
      "metadata": {
        "id": "IlrLCc3SCmuk"
      },
      "source": [
        "Copyright 2020 CounterFactual.AI LLC. Licensed under the Apache License, Version 2.0 (the \"License\"); you may not use this file except in compliance with the License. You may obtain a copy of the License at http://www.apache.org/licenses/LICENSE-2.0 Unless required by applicable law or agreed to in writing, software distributed under the License is distributed on an \"AS IS\" BASIS, WITHOUT WARRANTIES OR CONDITIONS OF ANY KIND, either express or implied. See the License for the specific language governing permissions and limitations under the License."
      ]
    }
  ]
}