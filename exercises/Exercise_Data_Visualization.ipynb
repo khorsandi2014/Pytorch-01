{
  "nbformat": 4,
  "nbformat_minor": 0,
  "metadata": {
    "kernelspec": {
      "display_name": "Python 3",
      "language": "python",
      "name": "python3"
    },
    "language_info": {
      "codemirror_mode": {
        "name": "ipython",
        "version": 3
      },
      "file_extension": ".py",
      "mimetype": "text/x-python",
      "name": "python",
      "nbconvert_exporter": "python",
      "pygments_lexer": "ipython3",
      "version": "3.7.3"
    },
    "colab": {
      "name": "Exercise_Data_Visualization.ipynb",
      "provenance": [],
      "collapsed_sections": []
    }
  },
  "cells": [
    {
      "cell_type": "markdown",
      "metadata": {
        "id": "nyfSg8z7OHnm"
      },
      "source": [
        "# Exercise: Visualization"
      ]
    },
    {
      "cell_type": "markdown",
      "metadata": {
        "id": "3yiylnkXOHnn"
      },
      "source": [
        "## First, remember to render images inline..."
      ]
    },
    {
      "cell_type": "code",
      "metadata": {
        "id": "Usfl5KYuOHno"
      },
      "source": [
        ""
      ],
      "execution_count": null,
      "outputs": []
    },
    {
      "cell_type": "markdown",
      "metadata": {
        "id": "Ev7T8GXiOHnr"
      },
      "source": [
        "## You'll need __`matplotlib`__ and __`torch`__\n",
        "* don't forget their standard abbreviations"
      ]
    },
    {
      "cell_type": "code",
      "metadata": {
        "id": "ieV1-QgUOHns"
      },
      "source": [
        ""
      ],
      "execution_count": null,
      "outputs": []
    },
    {
      "cell_type": "markdown",
      "metadata": {
        "id": "BLxK0cm0OHnv"
      },
      "source": [
        "## Simple Plot\n",
        "\n",
        "1. Create __`x`__, a vector of data between 0 and 2 with a step size of 0.01\n",
        "* Generate corresponding data __`y`__ using the function $ 1 + sin(2\\pi x) $\n",
        "* Plot these data\n",
        "* Set the x label to \"X-label\"\n",
        "* Set the y label to \"Y-label\"\n",
        "* Set the title to \"Simple Plot\"\n",
        "* Save the figure to a file called \"simple.png\"\n"
      ]
    },
    {
      "cell_type": "code",
      "metadata": {
        "id": "fzQUZrNHOHnv"
      },
      "source": [
        ""
      ],
      "execution_count": null,
      "outputs": []
    },
    {
      "cell_type": "markdown",
      "metadata": {
        "id": "Hq3megiaOHnz"
      },
      "source": [
        "## Scatter Plot\n",
        "* Generate a scatter plot of 100 random __`x`__ values and 100 random __`y`__ values"
      ]
    },
    {
      "cell_type": "code",
      "metadata": {
        "id": "wemodYoHOHnz"
      },
      "source": [
        ""
      ],
      "execution_count": null,
      "outputs": []
    },
    {
      "cell_type": "markdown",
      "metadata": {
        "id": "U7rQhjy9OHn2"
      },
      "source": [
        "## Colored Scatter Plot\n",
        "* Now generate a scatterplot with 100 random color values that will be mapped to the default color map"
      ]
    },
    {
      "cell_type": "code",
      "metadata": {
        "id": "LPAgxiKAOHn2"
      },
      "source": [
        ""
      ],
      "execution_count": null,
      "outputs": []
    },
    {
      "cell_type": "markdown",
      "metadata": {
        "id": "1RzCAZj5OHn5"
      },
      "source": [
        "## Color/Size Scatter Plot\n",
        "* Repeat the last plot, but change the size of each of the circles to be a random number between 0.0 and 1.0 * 100\n",
        "* __Note:__ you probably want to modify the opacity in case the circles stack on top of one another"
      ]
    },
    {
      "cell_type": "code",
      "metadata": {
        "id": "z-pR3gb7OHn6"
      },
      "source": [
        ""
      ],
      "execution_count": null,
      "outputs": []
    },
    {
      "cell_type": "markdown",
      "metadata": {
        "id": "oQX5obsvOHn9"
      },
      "source": [
        "## Histogram\n",
        "* Create a histogram of 100 random values from a normal distribution"
      ]
    },
    {
      "cell_type": "code",
      "metadata": {
        "id": "s8HpsjeQOHn9"
      },
      "source": [
        ""
      ],
      "execution_count": null,
      "outputs": []
    },
    {
      "cell_type": "code",
      "metadata": {
        "id": "1OY52bF_OHoB"
      },
      "source": [
        ""
      ],
      "execution_count": null,
      "outputs": []
    },
    {
      "cell_type": "markdown",
      "metadata": {
        "id": "xFhwoeOzOHoE"
      },
      "source": [
        "## Overlayed Histogram\n",
        "* Create two datasets with 100 random values each from a normal distribution\n",
        "* Display both  on the same plot\n",
        "* Make sure they are readable so adjust the transparency for each histogram\n",
        "* Display a legend"
      ]
    },
    {
      "cell_type": "code",
      "metadata": {
        "id": "4d3PLxafOHoE"
      },
      "source": [
        ""
      ],
      "execution_count": null,
      "outputs": []
    },
    {
      "cell_type": "markdown",
      "metadata": {
        "id": "M2Et6BlsOHoH"
      },
      "source": [
        "## Side-by-side Histograms\n",
        "* Create two side-by-side histograms of separate datasets with 100 random values each from a normal distribution\n",
        "* Use 30 bins\n",
        "* Make it so the plots share their axes"
      ]
    },
    {
      "cell_type": "code",
      "metadata": {
        "id": "ZmiHZQwIOHoI"
      },
      "source": [
        ""
      ],
      "execution_count": null,
      "outputs": []
    },
    {
      "cell_type": "markdown",
      "metadata": {
        "id": "6CieXn17OHoK"
      },
      "source": [
        "## Write the code to produce this figure\n",
        "![power plot](https://raw.githubusercontent.com/osipov/edu/master/pyt0/images/power.png)\n",
        "* the x axis represents time intervals __`t`__ of 200ms\n",
        "* the y axis represents $ t, t^2, t^3 $"
      ]
    },
    {
      "cell_type": "markdown",
      "metadata": {
        "id": "UL0BNmeWOHoM"
      },
      "source": [
        "## Write the code to produce this bar chart\n",
        "![popularity](https://raw.githubusercontent.com/osipov/edu/master/pyt0/images/popularity.png)\n",
        "* the popularity values are __`22.2, 17.6, 8.8, 8, 7.7, 6.7`__"
      ]
    },
    {
      "cell_type": "markdown",
      "metadata": {
        "id": "xtA7lg0mASlM"
      },
      "source": [
        "Copyright 2021 CounterFactual.AI LLC. Licensed under the Apache License, Version 2.0 (the \"License\"); you may not use this file except in compliance with the License. You may obtain a copy of the License at http://www.apache.org/licenses/LICENSE-2.0 Unless required by applicable law or agreed to in writing, software distributed under the License is distributed on an \"AS IS\" BASIS, WITHOUT WARRANTIES OR CONDITIONS OF ANY KIND, either express or implied. See the License for the specific language governing permissions and limitations under the License."
      ]
    }
  ]
}