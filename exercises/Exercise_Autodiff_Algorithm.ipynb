{
  "nbformat": 4,
  "nbformat_minor": 0,
  "metadata": {
    "kernelspec": {
      "display_name": "Python 3",
      "language": "python",
      "name": "python3"
    },
    "language_info": {
      "codemirror_mode": {
        "name": "ipython",
        "version": 3
      },
      "file_extension": ".py",
      "mimetype": "text/x-python",
      "name": "python",
      "nbconvert_exporter": "python",
      "pygments_lexer": "ipython3",
      "version": "3.7.3"
    },
    "colab": {
      "name": "Exercise_Autodiff_Algorithm.ipynb",
      "provenance": [],
      "collapsed_sections": []
    }
  },
  "cells": [
    {
      "source": [
        "<a href=\"https://colab.research.google.com/github/osipov/edu/blob/master/pyt0/Exercise_Autodiff_Algorithm.ipynb\" target=\"_blank\"><img src=\"https://colab.research.google.com/assets/colab-badge.svg\"/></a>"
      ],
      "cell_type": "markdown",
      "metadata": {}
    },
    {
      "cell_type": "markdown",
      "metadata": {
        "id": "X4QWrv6rKQ04",
        "colab_type": "text"
      },
      "source": [
        "## Import the __`torch`__ package"
      ]
    },
    {
      "cell_type": "code",
      "metadata": {
        "id": "Vw2yu0HIKQ05",
        "colab_type": "code",
        "colab": {}
      },
      "source": [
        "import torch as pt\n",
        "pt.__version__"
      ],
      "execution_count": 0,
      "outputs": []
    },
    {
      "cell_type": "code",
      "metadata": {
        "id": "ghW9x_7LKQ09",
        "colab_type": "code",
        "colab": {}
      },
      "source": [
        "class Scalar:    \n",
        "    def __init__(self, val):\n",
        "        self.val = val\n",
        "        self.grad = 0.\n",
        "        self.backward = lambda: None\n",
        "        \n",
        "    def __repr__(self):\n",
        "        return f\"Value: {self.val}, Gradient: {self.grad}\"\n",
        "    \n",
        "    def __add__(self, other):\n",
        "        result = Scalar(self.val + other.val)\n",
        "        return result\n",
        "\n",
        "    def __mul__(self, other):\n",
        "        result = Scalar(self.val * other.val)\n",
        "        return result        "
      ],
      "execution_count": 0,
      "outputs": []
    },
    {
      "cell_type": "markdown",
      "metadata": {
        "id": "GqeyPMtaKQ1A",
        "colab_type": "text"
      },
      "source": [
        "## Create a `Scalar` instance for `x = 2.0`"
      ]
    },
    {
      "cell_type": "code",
      "metadata": {
        "id": "UdZXolFUKQ1B",
        "colab_type": "code",
        "colab": {}
      },
      "source": [
        ""
      ],
      "execution_count": 0,
      "outputs": []
    },
    {
      "cell_type": "markdown",
      "metadata": {
        "id": "wpCVxuQcKQ1E",
        "colab_type": "text"
      },
      "source": [
        "## Define `y = x` "
      ]
    },
    {
      "cell_type": "code",
      "metadata": {
        "id": "Bu8de4X4KQ1E",
        "colab_type": "code",
        "colab": {}
      },
      "source": [
        ""
      ],
      "execution_count": 0,
      "outputs": []
    },
    {
      "cell_type": "markdown",
      "metadata": {
        "id": "9Qq9ScpmKQ1H",
        "colab_type": "text"
      },
      "source": [
        "## Prepare for and call `backward` on `y`\n",
        "* Use floating point values\n",
        "* Zero out the accumulating gradients\n",
        "* Initialize $ \\frac{\\partial y}{ \\partial y} $\n"
      ]
    },
    {
      "cell_type": "code",
      "metadata": {
        "id": "WAHVfnC_KQ1I",
        "colab_type": "code",
        "colab": {}
      },
      "source": [
        ""
      ],
      "execution_count": 0,
      "outputs": []
    },
    {
      "cell_type": "markdown",
      "metadata": {
        "id": "NRbBgulCKQ1L",
        "colab_type": "text"
      },
      "source": [
        "* check that $ \\frac{\\partial y}{ \\partial x} = 1.0 $"
      ]
    },
    {
      "cell_type": "code",
      "metadata": {
        "id": "tBimRd4cKQ1L",
        "colab_type": "code",
        "colab": {}
      },
      "source": [
        ""
      ],
      "execution_count": 0,
      "outputs": []
    },
    {
      "cell_type": "markdown",
      "metadata": {
        "id": "gC5POt4UKQ1P",
        "colab_type": "text"
      },
      "source": [
        "## Self-check\n",
        "\n",
        "* Why the did the implementation return the correct answer?"
      ]
    },
    {
      "cell_type": "markdown",
      "metadata": {
        "id": "e-JVg1nkKQ1P",
        "colab_type": "text"
      },
      "source": [
        "## Implement `backward` support in the` __add__` function\n",
        "* **hint:** given $ y = a + b $, you need to update `a.grad` and `b.grad` to accumulate $ \\frac{\\partial y}{ \\partial a} $ and $ \\frac{\\partial y}{ \\partial b} $ respectively.\n",
        "\n",
        "* **hint:** don't forget to make the recursive `backward` call"
      ]
    },
    {
      "cell_type": "code",
      "metadata": {
        "id": "ALT7TH5LKQ1Q",
        "colab_type": "code",
        "colab": {}
      },
      "source": [
        ""
      ],
      "execution_count": 0,
      "outputs": []
    },
    {
      "cell_type": "markdown",
      "metadata": {
        "id": "xoQ8FV8DKQ1S",
        "colab_type": "text"
      },
      "source": [
        "## Define `y = 3 * x` for `x = 3.0`\n",
        "* **hint:** recall that $ 3 * x = x + x + x $"
      ]
    },
    {
      "cell_type": "code",
      "metadata": {
        "id": "s88Zk_6cKQ1T",
        "colab_type": "code",
        "colab": {}
      },
      "source": [
        ""
      ],
      "execution_count": 0,
      "outputs": []
    },
    {
      "cell_type": "markdown",
      "metadata": {
        "id": "vx3zDy3dKQ1V",
        "colab_type": "text"
      },
      "source": [
        "## Prepare for and run the backward pass"
      ]
    },
    {
      "cell_type": "code",
      "metadata": {
        "id": "PKtdBqCIKQ1W",
        "colab_type": "code",
        "colab": {}
      },
      "source": [
        ""
      ],
      "execution_count": 0,
      "outputs": []
    },
    {
      "cell_type": "markdown",
      "metadata": {
        "id": "xw8otmYLKQ1Z",
        "colab_type": "text"
      },
      "source": [
        "* check that $ \\frac{\\partial y}{ \\partial x} = 3.0 $"
      ]
    },
    {
      "cell_type": "code",
      "metadata": {
        "id": "PaZsCpANKQ1Z",
        "colab_type": "code",
        "colab": {}
      },
      "source": [
        ""
      ],
      "execution_count": 0,
      "outputs": []
    },
    {
      "cell_type": "markdown",
      "metadata": {
        "id": "FA2ggcfHKQ1c",
        "colab_type": "text"
      },
      "source": [
        "## Implement `backward` support in the` __mul__` function\n",
        "* **hint:** given $ y = c * x$, $ \\frac{\\partial y}{ \\partial x} = c $"
      ]
    },
    {
      "cell_type": "code",
      "metadata": {
        "id": "PuR5VHEBKQ1d",
        "colab_type": "code",
        "colab": {}
      },
      "source": [
        ""
      ],
      "execution_count": 0,
      "outputs": []
    },
    {
      "cell_type": "markdown",
      "metadata": {
        "id": "ReYBUarZKQ1f",
        "colab_type": "text"
      },
      "source": [
        "## Use `y = x^3 + 2*x` for `x = 4.0`\n",
        "* **hint:** recall that $ x^3 = x * x * x $"
      ]
    },
    {
      "cell_type": "code",
      "metadata": {
        "id": "0VnU35HOKQ1g",
        "colab_type": "code",
        "colab": {}
      },
      "source": [
        ""
      ],
      "execution_count": 0,
      "outputs": []
    },
    {
      "cell_type": "markdown",
      "metadata": {
        "id": "fr15Uw_cKQ1i",
        "colab_type": "text"
      },
      "source": [
        "* given $ y = x^3 + 2x $ the analytical solution to $ \\frac{\\partial y}{ \\partial x} = 3x^2+2 $\n",
        "* check that your implementation of `Scalar` returns the correct value of $ \\frac{\\partial y}{ \\partial x} $ when $ x = 4.0 $"
      ]
    },
    {
      "cell_type": "code",
      "metadata": {
        "id": "um4aAcr9KQ1i",
        "colab_type": "code",
        "colab": {}
      },
      "source": [
        ""
      ],
      "execution_count": 0,
      "outputs": []
    },
    {
      "cell_type": "code",
      "metadata": {
        "id": "ivKVjg0tKQ1n",
        "colab_type": "code",
        "colab": {}
      },
      "source": [
        ""
      ],
      "execution_count": 0,
      "outputs": []
    },
    {
      "cell_type": "markdown",
      "metadata": {
        "id": "SBDfSGfcKQ1p",
        "colab_type": "text"
      },
      "source": [
        "## Apply `Scalar` to linear regression\n",
        "* set the random seed to `0`\n",
        "* randomly init the model parameter `w`"
      ]
    },
    {
      "cell_type": "code",
      "metadata": {
        "id": "Iy4Phpx4KQ1p",
        "colab_type": "code",
        "colab": {}
      },
      "source": [
        ""
      ],
      "execution_count": 0,
      "outputs": []
    },
    {
      "cell_type": "markdown",
      "metadata": {
        "id": "gIYhatJTKQ1s",
        "colab_type": "text"
      },
      "source": [
        "## Make linear regression data\n"
      ]
    },
    {
      "cell_type": "code",
      "metadata": {
        "id": "txdVmceyKQ1s",
        "colab_type": "code",
        "colab": {}
      },
      "source": [
        ""
      ],
      "execution_count": 0,
      "outputs": []
    },
    {
      "cell_type": "markdown",
      "metadata": {
        "id": "hHnQPRuvKQ1v",
        "colab_type": "text"
      },
      "source": [
        "## Implement a `forward` function using `w`\n",
        "* **hint:** the function should return $ w * X $"
      ]
    },
    {
      "cell_type": "code",
      "metadata": {
        "id": "1rD8GNipKQ1v",
        "colab_type": "code",
        "colab": {}
      },
      "source": [
        ""
      ],
      "execution_count": 0,
      "outputs": []
    },
    {
      "cell_type": "markdown",
      "metadata": {
        "id": "bHeMP08VKQ1x",
        "colab_type": "text"
      },
      "source": [
        "## Implement the mean squared error calculation\n",
        "* **hint:** Python `sum` can use a starter value as the 2nd argument"
      ]
    },
    {
      "cell_type": "code",
      "metadata": {
        "id": "BiW6fdXIKQ1x",
        "colab_type": "code",
        "colab": {}
      },
      "source": [
        ""
      ],
      "execution_count": 0,
      "outputs": []
    },
    {
      "cell_type": "markdown",
      "metadata": {
        "id": "F5qi1_frKQ1z",
        "colab_type": "text"
      },
      "source": [
        "## Confirm that gradient descent reduces MSE"
      ]
    },
    {
      "cell_type": "code",
      "metadata": {
        "id": "v9ztA1u7KQ10",
        "colab_type": "code",
        "colab": {}
      },
      "source": [
        ""
      ],
      "execution_count": 0,
      "outputs": []
    },
    {
      "cell_type": "code",
      "metadata": {
        "id": "l-c14ybHKQ12",
        "colab_type": "code",
        "colab": {}
      },
      "source": [
        ""
      ],
      "execution_count": 0,
      "outputs": []
    },
    {
      "cell_type": "markdown",
      "metadata": {
        "id": "2DKGuFd1KQ14",
        "colab_type": "text"
      },
      "source": [
        "## Compare the value of `w` to the analytical solution\n",
        "* the ordinary least squares solution is $ (X^TX)^{-1}X^Ty $\n",
        "\n",
        "\n",
        "* **self-check:** why are neither of the values equal to `5`?"
      ]
    },
    {
      "cell_type": "code",
      "metadata": {
        "id": "OCSn0aTSKQ14",
        "colab_type": "code",
        "colab": {}
      },
      "source": [
        ""
      ],
      "execution_count": 0,
      "outputs": []
    },
    {
      "cell_type": "markdown",
      "metadata": {
        "id": "yXjGAtiKNOIS",
        "colab_type": "text"
      },
      "source": [
        "Copyright 2020 CounterFactual.AI LLC. Licensed under the Apache License, Version 2.0 (the \"License\"); you may not use this file except in compliance with the License. You may obtain a copy of the License at http://www.apache.org/licenses/LICENSE-2.0 Unless required by applicable law or agreed to in writing, software distributed under the License is distributed on an \"AS IS\" BASIS, WITHOUT WARRANTIES OR CONDITIONS OF ANY KIND, either express or implied. See the License for the specific language governing permissions and limitations under the License."
      ]
    }
  ]
}