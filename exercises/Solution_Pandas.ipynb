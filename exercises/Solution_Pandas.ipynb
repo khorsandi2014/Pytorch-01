{
  "nbformat": 4,
  "nbformat_minor": 0,
  "metadata": {
    "kernelspec": {
      "display_name": "Python 3",
      "language": "python",
      "name": "python3"
    },
    "language_info": {
      "codemirror_mode": {
        "name": "ipython",
        "version": 3
      },
      "file_extension": ".py",
      "mimetype": "text/x-python",
      "name": "python",
      "nbconvert_exporter": "python",
      "pygments_lexer": "ipython3",
      "version": "3.7.3"
    },
    "colab": {
      "name": "Solution_Pandas.ipynb",
      "provenance": [],
      "collapsed_sections": []
    }
  },
  "cells": [
    {
      "cell_type": "markdown",
      "metadata": {
        "id": "ToBRy8I1TcgV"
      },
      "source": [
        "## **TODO:** Set the value of `URL` to the URL from your learning materials"
      ]
    },
    {
      "cell_type": "code",
      "metadata": {
        "id": "EClN0oyvTfdm"
      },
      "source": [
        "URL = None\n",
        "import os\n",
        "assert URL and (type(URL) is str), \"Be sure to initialize URL using the value from your learning materials\"\n",
        "os.environ['URL'] = URL"
      ],
      "execution_count": null,
      "outputs": []
    },
    {
      "cell_type": "code",
      "metadata": {
        "id": "WXkv6YhsTgow"
      },
      "source": [
        "%%bash\n",
        "wget -q $URL -O ./data.zip\n",
        "mkdir -p data\n",
        "find *.zip | xargs unzip -o -d data/"
      ],
      "execution_count": null,
      "outputs": []
    },
    {
      "cell_type": "markdown",
      "metadata": {
        "id": "XZrG0EYmTbdD"
      },
      "source": [
        "# Exercise: Pandas"
      ]
    },
    {
      "cell_type": "markdown",
      "metadata": {
        "id": "r0XTIBR1TbdE"
      },
      "source": [
        "## To get started we'll need  __`pandas`__"
      ]
    },
    {
      "cell_type": "code",
      "metadata": {
        "id": "774pBF2uTbdF"
      },
      "source": [
        "import pandas as pd"
      ],
      "execution_count": null,
      "outputs": []
    },
    {
      "cell_type": "markdown",
      "metadata": {
        "id": "xmqH_t56TbdI"
      },
      "source": [
        "## Read the Consumer Complaints data file named __`data/Consumer_Complaints.csv`__ into a DataFrame"
      ]
    },
    {
      "cell_type": "code",
      "metadata": {
        "id": "mAzXlMGUTbdJ"
      },
      "source": [
        "data = pd.read_csv('data/Consumer_Complaints.csv')"
      ],
      "execution_count": null,
      "outputs": []
    },
    {
      "cell_type": "markdown",
      "metadata": {
        "id": "iHYkhDGtTbdM"
      },
      "source": [
        "## Determine the shape of the DataFrame"
      ]
    },
    {
      "cell_type": "code",
      "metadata": {
        "id": "70MJpvoZTbdM"
      },
      "source": [
        "data.shape"
      ],
      "execution_count": null,
      "outputs": []
    },
    {
      "cell_type": "markdown",
      "metadata": {
        "id": "I0PavZqyTbdQ"
      },
      "source": [
        "## Investigate the first few rows of the DataFrame and find out what columns are present"
      ]
    },
    {
      "cell_type": "code",
      "metadata": {
        "id": "YMkMUwvZTbdR"
      },
      "source": [
        "data.head()"
      ],
      "execution_count": null,
      "outputs": []
    },
    {
      "cell_type": "markdown",
      "metadata": {
        "id": "g7GZBZctTbdU"
      },
      "source": [
        "## How many consumer complaints are there per state?"
      ]
    },
    {
      "cell_type": "code",
      "metadata": {
        "id": "T24zQXqHTbdU"
      },
      "source": [
        "data['State'].value_counts()"
      ],
      "execution_count": null,
      "outputs": []
    },
    {
      "cell_type": "markdown",
      "metadata": {
        "id": "qFivgVIjTbdX"
      },
      "source": [
        "## What ZIP code has the highest number of complaints?"
      ]
    },
    {
      "cell_type": "code",
      "metadata": {
        "id": "1GmPF1l9TbdY"
      },
      "source": [
        "data['ZIP code'].value_counts()[:1]"
      ],
      "execution_count": null,
      "outputs": []
    },
    {
      "cell_type": "markdown",
      "metadata": {
        "id": "DMQoAt5NTbdc"
      },
      "source": [
        "## What are the top five products for complaints?"
      ]
    },
    {
      "cell_type": "code",
      "metadata": {
        "id": "9k4E_fkETbdc"
      },
      "source": [
        "data['Product'].value_counts()[:5]"
      ],
      "execution_count": null,
      "outputs": []
    },
    {
      "cell_type": "markdown",
      "metadata": {
        "id": "hegjtdzvTbdf"
      },
      "source": [
        "## What are the top five states for consumer complaints?"
      ]
    },
    {
      "cell_type": "code",
      "metadata": {
        "id": "New-NHeUTbdf"
      },
      "source": [
        "data['State'].value_counts()[:5]"
      ],
      "execution_count": null,
      "outputs": []
    },
    {
      "cell_type": "markdown",
      "metadata": {
        "id": "qaCCCrh-Tbdi"
      },
      "source": [
        "## What is potentially misleading about these results? \n",
        "* We can solve this problem by normalizing the results against population data.\n",
        "* Our complaints database doesn't have this information though, so, let's read the information from the file __`data/states.csv`__ into a DataFrame"
      ]
    },
    {
      "cell_type": "code",
      "metadata": {
        "id": "Ph8xWPCOTbdj"
      },
      "source": [
        "states = pd.read_csv('data/states.csv')\n",
        "states"
      ],
      "execution_count": null,
      "outputs": []
    },
    {
      "cell_type": "markdown",
      "metadata": {
        "id": "3Gx09Fl-Tbdm"
      },
      "source": [
        "## Investigate the first few rows of the DataFrame"
      ]
    },
    {
      "cell_type": "code",
      "metadata": {
        "id": "1S23AMTKTbdo"
      },
      "source": [
        "states.head()"
      ],
      "execution_count": null,
      "outputs": []
    },
    {
      "cell_type": "markdown",
      "metadata": {
        "id": "7377W8BUTbdq"
      },
      "source": [
        "## The __`Count`__ column is irrelevant, so...\n",
        "* Create a new DataFrame with only the 'Abbrev' and 'Population' columns"
      ]
    },
    {
      "cell_type": "code",
      "metadata": {
        "id": "7sWMWFuLTbdq"
      },
      "source": [
        "states = states[['Abbrev', 'Population']]\n",
        "states"
      ],
      "execution_count": null,
      "outputs": []
    },
    {
      "cell_type": "markdown",
      "metadata": {
        "id": "uOcOsfLWTbdt"
      },
      "source": [
        "## We're going to want to merge the DataFrames on the two-letter abbreviation\n",
        "* This is called __`State`__ in the first data set so make sure the second dataset has the correct column names"
      ]
    },
    {
      "cell_type": "code",
      "metadata": {
        "id": "NFR4pDeTTbdt"
      },
      "source": [
        "states.columns = ['State', 'Population']\n",
        "states"
      ],
      "execution_count": null,
      "outputs": []
    },
    {
      "cell_type": "code",
      "metadata": {
        "id": "AKBg5GWfTbdw"
      },
      "source": [
        "data = pd.merge(data, states, on='State')\n",
        "data.head()"
      ],
      "execution_count": null,
      "outputs": []
    },
    {
      "cell_type": "markdown",
      "metadata": {
        "id": "AuUGs3rFTbdz"
      },
      "source": [
        "## Generate a new DataFrame that contains the number of  complaints per state and keeps track of those counts"
      ]
    },
    {
      "cell_type": "code",
      "metadata": {
        "id": "sGWSQmSATbd0"
      },
      "source": [
        "by_state = pd.DataFrame(data['State'].value_counts().reset_index())\n",
        "by_state.columns = 'State Count'.split()"
      ],
      "execution_count": null,
      "outputs": []
    },
    {
      "cell_type": "code",
      "metadata": {
        "scrolled": true,
        "id": "U_H2_SN_Tbd2"
      },
      "source": [
        "by_state"
      ],
      "execution_count": null,
      "outputs": []
    },
    {
      "cell_type": "markdown",
      "metadata": {
        "id": "Ux6Xb1GYTbd5"
      },
      "source": [
        "## Merge the __`by_state`__ DataFrame and the states DataFrame on the __`State`__ column\n",
        "* Since there are U.S. territories in one of the datasets and not the other, we have some NaN results–get rid of those"
      ]
    },
    {
      "cell_type": "code",
      "metadata": {
        "id": "bVbIGpOZTbd6"
      },
      "source": [
        "merged = pd.merge(by_state, states, on='State').dropna()"
      ],
      "execution_count": null,
      "outputs": []
    },
    {
      "cell_type": "markdown",
      "metadata": {
        "id": "dNEMROQ0Tbd8"
      },
      "source": [
        "## Inspect the first few rows to ensure it worked properly"
      ]
    },
    {
      "cell_type": "code",
      "metadata": {
        "id": "A33CbGHHTbd9"
      },
      "source": [
        "merged.head()"
      ],
      "execution_count": null,
      "outputs": []
    },
    {
      "cell_type": "markdown",
      "metadata": {
        "id": "Q4gH7biFTbd_"
      },
      "source": [
        "## Normalize the Population\n",
        "1. Divide the counts column by the __`Population`__ \n",
        "* Store the result in a new columnn called 'population_normalized'"
      ]
    },
    {
      "cell_type": "code",
      "metadata": {
        "id": "9k2Uf1T9Tbd_"
      },
      "source": [
        "merged['population_normalized'] = merged['Count'] / merged['Population']"
      ],
      "execution_count": null,
      "outputs": []
    },
    {
      "cell_type": "markdown",
      "metadata": {
        "id": "SOHDAoLbTbeB"
      },
      "source": [
        "## Check out the first few rows of the data to make sure it looks like you expect"
      ]
    },
    {
      "cell_type": "code",
      "metadata": {
        "id": "IlTX7449TbeC"
      },
      "source": [
        "merged.head()"
      ],
      "execution_count": null,
      "outputs": []
    },
    {
      "cell_type": "markdown",
      "metadata": {
        "id": "46BeZLw5TbeE"
      },
      "source": [
        "## What are the top 10 states for complaints based upon raw counts?"
      ]
    },
    {
      "cell_type": "code",
      "metadata": {
        "id": "nZgXZfj1TbeE"
      },
      "source": [
        "merged.sort_values('Count', ascending=False)[:10]"
      ],
      "execution_count": null,
      "outputs": []
    },
    {
      "cell_type": "markdown",
      "metadata": {
        "id": "sjajCpkyTbeM"
      },
      "source": [
        "## What are the top 10 states for complaints normalized by population?"
      ]
    },
    {
      "cell_type": "code",
      "metadata": {
        "id": "I-lJV9IMTbeM"
      },
      "source": [
        "merged.sort_values('population_normalized', ascending=False)[:10]"
      ],
      "execution_count": null,
      "outputs": []
    },
    {
      "cell_type": "markdown",
      "metadata": {
        "id": "2d99nLocA8AO"
      },
      "source": [
        "Copyright 2021 CounterFactual.AI LLC. Licensed under the Apache License, Version 2.0 (the \"License\"); you may not use this file except in compliance with the License. You may obtain a copy of the License at http://www.apache.org/licenses/LICENSE-2.0 Unless required by applicable law or agreed to in writing, software distributed under the License is distributed on an \"AS IS\" BASIS, WITHOUT WARRANTIES OR CONDITIONS OF ANY KIND, either express or implied. See the License for the specific language governing permissions and limitations under the License."
      ]
    }
  ]
}