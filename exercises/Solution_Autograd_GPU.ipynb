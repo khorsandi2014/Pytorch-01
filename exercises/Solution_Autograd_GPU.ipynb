{
  "nbformat": 4,
  "nbformat_minor": 0,
  "metadata": {
    "kernelspec": {
      "display_name": "Python 3",
      "language": "python",
      "name": "python3"
    },
    "language_info": {
      "codemirror_mode": {
        "name": "ipython",
        "version": 3
      },
      "file_extension": ".py",
      "mimetype": "text/x-python",
      "name": "python",
      "nbconvert_exporter": "python",
      "pygments_lexer": "ipython3",
      "version": "3.7.3"
    },
    "colab": {
      "name": "Solution_Autograd_GPU.ipynb",
      "provenance": [],
      "collapsed_sections": []
    }
  },
  "cells": [
    {
      "cell_type": "markdown",
      "metadata": {
        "id": "Qx24j_XTVBfN"
      },
      "source": [
        "## Use PyTorch autograd and gradient descent for linear regression\n",
        "* create a synthetic dataset with 100 data points"
      ]
    },
    {
      "cell_type": "code",
      "metadata": {
        "id": "YsBVS1sYVBfO"
      },
      "source": [
        "import torch as pt\n",
        "pt.manual_seed(0)\n",
        "\n",
        "X = pt.linspace(-5, 5, 100)\n",
        "y = 2 * X + pt.normal(0., 3., [len(X)])"
      ],
      "execution_count": null,
      "outputs": []
    },
    {
      "cell_type": "markdown",
      "metadata": {
        "id": "Yz9T8IEdVBfS"
      },
      "source": [
        "## Render a scatter plot of the sample data\n",
        "* remember to import `matplotlib.pyplot as plt` and set `%matplotlib inline`"
      ]
    },
    {
      "cell_type": "code",
      "metadata": {
        "id": "3DudXmpPVBfT",
        "colab": {
          "base_uri": "https://localhost:8080/",
          "height": 265
        },
        "outputId": "305f2ed5-ed5e-4cab-d2ff-a8de0f9fab77"
      },
      "source": [
        "import matplotlib.pyplot as plt\n",
        "%matplotlib inline\n",
        "\n",
        "plt.scatter(X, y);"
      ],
      "execution_count": null,
      "outputs": [
        {
          "output_type": "display_data",
          "data": {
            "image/png": "[encoded data removed]",
            "text/plain": [
              "<Figure size 432x288 with 1 Axes>"
            ]
          },
          "metadata": {
            "tags": [],
            "needs_background": "light"
          }
        }
      ]
    },
    {
      "cell_type": "markdown",
      "metadata": {
        "id": "qyQi9_ifVBfW"
      },
      "source": [
        "## Initialize the model parameter\n",
        "* **hint:** don't forget to set `requires_grad = True`"
      ]
    },
    {
      "cell_type": "code",
      "metadata": {
        "id": "c94VxZr6VBfW",
        "colab": {
          "base_uri": "https://localhost:8080/",
          "height": 34
        },
        "outputId": "9104fb9d-2517-4307-a8d0-7aac8171066b"
      },
      "source": [
        "w = pt.randn(1, requires_grad = True)\n",
        "w"
      ],
      "execution_count": null,
      "outputs": [
        {
          "output_type": "execute_result",
          "data": {
            "text/plain": [
              "tensor([1.3232], requires_grad=True)"
            ]
          },
          "metadata": {
            "tags": []
          },
          "execution_count": 3
        }
      ]
    },
    {
      "cell_type": "markdown",
      "metadata": {
        "id": "X4hVuPWBVBfZ"
      },
      "source": [
        "## Implement a `forward` method that returns the predicted values"
      ]
    },
    {
      "cell_type": "code",
      "metadata": {
        "id": "Wq4m8a-MVBfa"
      },
      "source": [
        "def forward(w, X):\n",
        "    return w * X"
      ],
      "execution_count": null,
      "outputs": []
    },
    {
      "cell_type": "markdown",
      "metadata": {
        "id": "7uLso0QdVBfc"
      },
      "source": [
        "## Implement a `loss` method that returns the mean squared error\n",
        "* **hint:** use the `pt.mean` method"
      ]
    },
    {
      "cell_type": "code",
      "metadata": {
        "id": "kgCoI9IqVBfd"
      },
      "source": [
        "def loss(y_pred, y):\n",
        "    return pt.mean((y_pred - y) ** 2)"
      ],
      "execution_count": null,
      "outputs": []
    },
    {
      "cell_type": "code",
      "metadata": {
        "id": "LzFyAE3aVBff",
        "colab": {
          "base_uri": "https://localhost:8080/",
          "height": 187
        },
        "outputId": "9956ebc4-e922-4cf7-c754-649652f3b124"
      },
      "source": [
        "LEARNING_RATE = 0.03\n",
        "\n",
        "for _ in range(10):\n",
        "    y_pred = forward(w, X)\n",
        "    mse = loss(y_pred, y)\n",
        "    \n",
        "    w.grad = None\n",
        "    mse.backward(pt.tensor(1.))\n",
        "    \n",
        "    w.data -= (LEARNING_RATE * w.grad)\n",
        "    \n",
        "    print(\"MSE: \", mse.item(), \" w: \", w.item(), \" w.grad: \", w.grad.item())"
      ],
      "execution_count": null,
      "outputs": [
        {
          "output_type": "stream",
          "text": [
            "MSE:  13.342745780944824  w:  1.6680289506912231  w.grad:  -11.494243621826172\n",
            "MSE:  10.390113830566406  w:  1.8369594812393188  w.grad:  -5.63101863861084\n",
            "MSE:  9.68148136138916  w:  1.9197183847427368  w.grad:  -2.7586312294006348\n",
            "MSE:  9.511408805847168  w:  1.9602619409561157  w.grad:  -1.3514517545700073\n",
            "MSE:  9.470590591430664  w:  1.9801242351531982  w.grad:  -0.6620747447013855\n",
            "MSE:  9.460793495178223  w:  1.9898546934127808  w.grad:  -0.3243488073348999\n",
            "MSE:  9.458442687988281  w:  1.9946216344833374  w.grad:  -0.15889863669872284\n",
            "MSE:  9.457878112792969  w:  1.9969569444656372  w.grad:  -0.07784421741962433\n",
            "MSE:  9.457742691040039  w:  1.998100996017456  w.grad:  -0.03813638538122177\n",
            "MSE:  9.457711219787598  w:  1.9986615180969238  w.grad:  -0.018683448433876038\n"
          ],
          "name": "stdout"
        }
      ]
    },
    {
      "cell_type": "markdown",
      "metadata": {
        "id": "Rd09Kb9aVBfj"
      },
      "source": [
        "## Render a plot of the sample data with a line based on your model parameter\n",
        "* use `detach().numpy()` on the tensor generated by your model to render it\n",
        "* **hint:** reuse your `forward` function to generate the values for the line plot\n"
      ]
    },
    {
      "cell_type": "code",
      "metadata": {
        "id": "uAt4LBo_VBfj",
        "colab": {
          "base_uri": "https://localhost:8080/",
          "height": 265
        },
        "outputId": "4a26bb64-f4e3-43d7-c3bf-face7c218f1e"
      },
      "source": [
        "plt.scatter(X, y)\n",
        "\n",
        "y_pred = forward(w, X).detach().numpy()\n",
        "plt.plot(X, y_pred, color='black', linewidth = 4);"
      ],
      "execution_count": null,
      "outputs": [
        {
          "output_type": "display_data",
          "data": {
            "image/png": "[encoded data removed]",
            "text/plain": [
              "<Figure size 432x288 with 1 Axes>"
            ]
          },
          "metadata": {
            "tags": [],
            "needs_background": "light"
          }
        }
      ]
    },
    {
      "cell_type": "markdown",
      "metadata": {
        "id": "WfjvAdr8VFX4"
      },
      "source": [
        "Copyright 2021 CounterFactual.AI LLC. Licensed under the Apache License, Version 2.0 (the \"License\"); you may not use this file except in compliance with the License. You may obtain a copy of the License at http://www.apache.org/licenses/LICENSE-2.0 Unless required by applicable law or agreed to in writing, software distributed under the License is distributed on an \"AS IS\" BASIS, WITHOUT WARRANTIES OR CONDITIONS OF ANY KIND, either express or implied. See the License for the specific language governing permissions and limitations under the License."
      ]
    }
  ]
}