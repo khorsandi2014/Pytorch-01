{
  "nbformat": 4,
  "nbformat_minor": 0,
  "metadata": {
    "kernelspec": {
      "display_name": "Python 3",
      "language": "python",
      "name": "python3"
    },
    "language_info": {
      "codemirror_mode": {
        "name": "ipython",
        "version": 3
      },
      "file_extension": ".py",
      "mimetype": "text/x-python",
      "name": "python",
      "nbconvert_exporter": "python",
      "pygments_lexer": "ipython3",
      "version": "3.7.3"
    },
    "colab": {
      "name": "Exercise_Pandas.ipynb",
      "provenance": [],
      "collapsed_sections": []
    }
  },
  "cells": [
    {
      "cell_type": "markdown",
      "metadata": {
        "id": "smQ_Rht_Sm7e"
      },
      "source": [
        "## **TODO:** Set the value of `URL` to the URL from your learning materials"
      ]
    },
    {
      "cell_type": "code",
      "metadata": {
        "id": "HeWBWU5gSlzI"
      },
      "source": [
        "URL = None\n",
        "import os\n",
        "assert URL and (type(URL) is str), \"Be sure to initialize URL using the value from your learning materials\"\n",
        "os.environ['URL'] = URL"
      ],
      "execution_count": null,
      "outputs": []
    },
    {
      "cell_type": "code",
      "metadata": {
        "id": "__mhhmRtSz4N"
      },
      "source": [
        "%%bash\n",
        "wget -q $URL -O ./data.zip\n",
        "mkdir -p data\n",
        "find *.zip | xargs unzip -o -d data/"
      ],
      "execution_count": null,
      "outputs": []
    },
    {
      "cell_type": "markdown",
      "metadata": {
        "id": "F-jfOfrLSioV"
      },
      "source": [
        "# Exercise: Pandas"
      ]
    },
    {
      "cell_type": "markdown",
      "metadata": {
        "id": "WwQZ24emSioW"
      },
      "source": [
        "## To get started we'll need __`pandas`__"
      ]
    },
    {
      "cell_type": "code",
      "metadata": {
        "id": "zfpU_af3SioX"
      },
      "source": [
        "import pandas as pd"
      ],
      "execution_count": null,
      "outputs": []
    },
    {
      "cell_type": "markdown",
      "metadata": {
        "id": "JFOWW8QnSiob"
      },
      "source": [
        "## Read the Consumer Complaints data file named __`data/Consumer_Complaints.csv`__ into a DataFrame"
      ]
    },
    {
      "cell_type": "code",
      "metadata": {
        "id": "PsDyKr5ESiob"
      },
      "source": [
        ""
      ],
      "execution_count": null,
      "outputs": []
    },
    {
      "cell_type": "markdown",
      "metadata": {
        "id": "adYQWvWNSioe"
      },
      "source": [
        "## Determine the shape of the DataFrame"
      ]
    },
    {
      "cell_type": "code",
      "metadata": {
        "id": "v7lnLTgcSiof"
      },
      "source": [
        ""
      ],
      "execution_count": null,
      "outputs": []
    },
    {
      "cell_type": "markdown",
      "metadata": {
        "id": "8p86vNsbSioi"
      },
      "source": [
        "## Investigate the first few rows of the DataFrame and find out what columns are present"
      ]
    },
    {
      "cell_type": "code",
      "metadata": {
        "id": "k1kvi5yxSioj"
      },
      "source": [
        ""
      ],
      "execution_count": null,
      "outputs": []
    },
    {
      "cell_type": "markdown",
      "metadata": {
        "id": "sPZnz8PgSiom"
      },
      "source": [
        "## How many consumer complaints are there per state?"
      ]
    },
    {
      "cell_type": "code",
      "metadata": {
        "id": "_XOLmXK9Sion"
      },
      "source": [
        ""
      ],
      "execution_count": null,
      "outputs": []
    },
    {
      "cell_type": "markdown",
      "metadata": {
        "id": "R-5IKTSaSiop"
      },
      "source": [
        "## Which ZIP code has the highest number of complaints?"
      ]
    },
    {
      "cell_type": "code",
      "metadata": {
        "id": "sahsBUzgSioq"
      },
      "source": [
        ""
      ],
      "execution_count": null,
      "outputs": []
    },
    {
      "cell_type": "markdown",
      "metadata": {
        "id": "Fw8yKRtYSiot"
      },
      "source": [
        "## What are the top five products for complaints?"
      ]
    },
    {
      "cell_type": "code",
      "metadata": {
        "id": "RcgthO9cSiou"
      },
      "source": [
        ""
      ],
      "execution_count": null,
      "outputs": []
    },
    {
      "cell_type": "markdown",
      "metadata": {
        "id": "80IksyWxSiox"
      },
      "source": [
        "## What are the top five states for consumer complaints?"
      ]
    },
    {
      "cell_type": "code",
      "metadata": {
        "id": "wVf5NPHYSioy"
      },
      "source": [
        ""
      ],
      "execution_count": null,
      "outputs": []
    },
    {
      "cell_type": "markdown",
      "metadata": {
        "id": "a9yyCFaVSio1"
      },
      "source": [
        "## What is potentially misleading about these results? \n",
        "* We can solve this problem by normalizing the results against population data.\n",
        "* Our complaints database doesn't have this information though, so, let's read the information from the file __`data/states.csv`__ into a DataFrame"
      ]
    },
    {
      "cell_type": "code",
      "metadata": {
        "id": "ugKWvryISio1"
      },
      "source": [
        ""
      ],
      "execution_count": null,
      "outputs": []
    },
    {
      "cell_type": "markdown",
      "metadata": {
        "id": "lpCX5DBGSio5"
      },
      "source": [
        "## Investigate the first few rows of the DataFrame"
      ]
    },
    {
      "cell_type": "code",
      "metadata": {
        "id": "DKiJ_uH-Sio5"
      },
      "source": [
        ""
      ],
      "execution_count": null,
      "outputs": []
    },
    {
      "cell_type": "markdown",
      "metadata": {
        "id": "tnKJ4qGFSio8"
      },
      "source": [
        "## The __`Count`__ column is irrelevant, so...\n",
        "* Create a new DataFrame with only the __`Abbrev`__ and __`Population`__ columns"
      ]
    },
    {
      "cell_type": "code",
      "metadata": {
        "id": "OkAvNpjwSio8"
      },
      "source": [
        ""
      ],
      "execution_count": null,
      "outputs": []
    },
    {
      "cell_type": "markdown",
      "metadata": {
        "id": "Y7qjeuQBSio_"
      },
      "source": [
        "## We're going to want to merge the DataFrames on the two-letter abbreviation\n",
        "* This is called __`State`__ in the first data set so make sure the second dataset has the right column names\n",
        "* Hint: check out the __`merge`__ function"
      ]
    },
    {
      "cell_type": "code",
      "metadata": {
        "id": "qJa16SypSio_"
      },
      "source": [
        ""
      ],
      "execution_count": null,
      "outputs": []
    },
    {
      "cell_type": "markdown",
      "metadata": {
        "id": "mxfo7ccGSipB"
      },
      "source": [
        "## Generate a new DataFrame that contains the number of  complaints per state and keeps track of those counts"
      ]
    },
    {
      "cell_type": "code",
      "metadata": {
        "id": "haYzK4gKSipC"
      },
      "source": [
        ""
      ],
      "execution_count": null,
      "outputs": []
    },
    {
      "cell_type": "markdown",
      "metadata": {
        "id": "zbYR-j4qSipF"
      },
      "source": [
        "## Merge the __`complaints_by_state`__ DataFrame and the states DataFrame on the __`State`__ column\n",
        "* Since there are U.S. territories in one of the datasets and not the other, we have some NaN results–get rid of those"
      ]
    },
    {
      "cell_type": "code",
      "metadata": {
        "id": "GOpVvPnhSipF"
      },
      "source": [
        ""
      ],
      "execution_count": null,
      "outputs": []
    },
    {
      "cell_type": "markdown",
      "metadata": {
        "id": "xIEk3FtQSipI"
      },
      "source": [
        "## Inspect the first few rows to ensure it worked properly"
      ]
    },
    {
      "cell_type": "code",
      "metadata": {
        "id": "cW4wYN6cSipJ"
      },
      "source": [
        ""
      ],
      "execution_count": null,
      "outputs": []
    },
    {
      "cell_type": "markdown",
      "metadata": {
        "id": "daFJG4YLSipM"
      },
      "source": [
        "## Normalize the Population\n",
        "1. Divide the counts column by the __`Population`__ \n",
        "* Store the result in a new columnn called 'population_normalized'"
      ]
    },
    {
      "cell_type": "code",
      "metadata": {
        "id": "owiNJZP8SipN"
      },
      "source": [
        ""
      ],
      "execution_count": null,
      "outputs": []
    },
    {
      "cell_type": "markdown",
      "metadata": {
        "id": "wgrLZm45SipP"
      },
      "source": [
        "## Check out the first few rows of the data to make sure it looks like you expect"
      ]
    },
    {
      "cell_type": "code",
      "metadata": {
        "id": "QauDI31iSipP"
      },
      "source": [
        ""
      ],
      "execution_count": null,
      "outputs": []
    },
    {
      "cell_type": "markdown",
      "metadata": {
        "id": "V42_4_W8SipS"
      },
      "source": [
        "## What are the top 10 states for complaints based upon raw counts?"
      ]
    },
    {
      "cell_type": "code",
      "metadata": {
        "id": "LyiIaVuySipS"
      },
      "source": [
        ""
      ],
      "execution_count": null,
      "outputs": []
    },
    {
      "cell_type": "markdown",
      "metadata": {
        "id": "j9RGG3WMSipU"
      },
      "source": [
        "## What are the top 10 states for complaints normalized by population?"
      ]
    },
    {
      "cell_type": "code",
      "metadata": {
        "id": "cBh5UPT_SipV"
      },
      "source": [
        ""
      ],
      "execution_count": null,
      "outputs": []
    },
    {
      "cell_type": "markdown",
      "metadata": {
        "id": "zJsUtH0WA04Z"
      },
      "source": [
        "Copyright 2021 CounterFactual.AI LLC. Licensed under the Apache License, Version 2.0 (the \"License\"); you may not use this file except in compliance with the License. You may obtain a copy of the License at http://www.apache.org/licenses/LICENSE-2.0 Unless required by applicable law or agreed to in writing, software distributed under the License is distributed on an \"AS IS\" BASIS, WITHOUT WARRANTIES OR CONDITIONS OF ANY KIND, either express or implied. See the License for the specific language governing permissions and limitations under the License."
      ]
    }
  ]
}