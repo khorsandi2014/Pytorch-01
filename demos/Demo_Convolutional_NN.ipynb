{
  "nbformat": 4,
  "nbformat_minor": 0,
  "metadata": {
    "colab": {
      "name": "Demo_Convolutional_NN",
      "provenance": [],
      "collapsed_sections": []
    },
    "kernelspec": {
      "name": "python3",
      "display_name": "Python 3"
    },
    "accelerator": "GPU"
  },
  "cells": [
    {
      "cell_type": "code",
      "metadata": {
        "id": "PxyEAFXRJbYJ"
      },
      "source": [
        "import torch as pt\n",
        "pt.manual_seed(42)\n",
        "\n",
        "import torchvision\n",
        "import torchvision.transforms as transforms\n",
        "\n",
        "import numpy as np\n",
        "import matplotlib.pyplot as plt\n",
        "%matplotlib inline\n",
        "\n",
        "device = pt.device(\"cuda:0\" if pt.cuda.is_available() else \"cpu\")\n",
        "device"
      ],
      "execution_count": null,
      "outputs": []
    },
    {
      "cell_type": "code",
      "metadata": {
        "id": "JFatzLoiakGy"
      },
      "source": [
        "transform = transforms.Compose([transforms.ToTensor(), transforms.Lambda(lambda x: x.to(device))])\n",
        "\n",
        "\n",
        "train_ds = torchvision.datasets.FashionMNIST('./fmnist', \n",
        "                                              download = True, \n",
        "                                              train = True,\n",
        "                                              transform = transform)\n",
        "\n",
        "train_dl = pt.utils.data.DataLoader(train_ds,\n",
        "                                          batch_size=4)\n",
        "                                          # shuffle=True,\n",
        "                                          # num_workers=4)"
      ],
      "execution_count": null,
      "outputs": []
    },
    {
      "cell_type": "code",
      "metadata": {
        "id": "CCCOIM0Uk0ru"
      },
      "source": [
        "test_ds = torchvision.datasets.FashionMNIST('./fmnist', \n",
        "                                              download = True, \n",
        "                                              train = False,\n",
        "                                              transform = transform)\n",
        "\n",
        "test_dl = pt.utils.data.DataLoader(test_ds, batch_size=4)\n",
        "                                          # shuffle=True,\n",
        "                                          # num_workers=4)"
      ],
      "execution_count": null,
      "outputs": []
    },
    {
      "cell_type": "code",
      "metadata": {
        "id": "PrhNu-yzXF0g"
      },
      "source": [
        "CLASSES = ['T-shirt/top', 'Trouser', 'Pullover', 'Dress',\n",
        "                   'Coat', 'Sandal', 'Shirt', 'Sneaker', 'Bag', 'Ankle boot']\n",
        "\n",
        "idx, (image, label) = next(enumerate(train_ds))\n",
        "idx, image.shape, label"
      ],
      "execution_count": null,
      "outputs": []
    },
    {
      "cell_type": "code",
      "metadata": {
        "id": "eCUeFU6ervH8"
      },
      "source": [
        "plt.imshow(image.cpu().squeeze().numpy(), cmap = 'binary')\n",
        "plt.xlabel(CLASSES[label]);"
      ],
      "execution_count": null,
      "outputs": []
    },
    {
      "cell_type": "code",
      "metadata": {
        "id": "9f6Cz_hxcCq3"
      },
      "source": [
        "import numpy as np\n",
        "\n",
        "plt.figure(figsize=(10, 10))\n",
        "for i in range(25):\n",
        "    plt.subplot(5, 5, i+1)\n",
        "    plt.xticks([])\n",
        "    plt.yticks([])\n",
        "    plt.grid('off')\n",
        "    idx = np.random.randint(0, len(train_ds))\n",
        "    image, label = train_ds[idx]\n",
        "    plt.imshow(image.cpu().squeeze().numpy(), cmap='binary')\n",
        "    plt.xlabel(CLASSES[label])"
      ],
      "execution_count": null,
      "outputs": []
    },
    {
      "cell_type": "code",
      "metadata": {
        "id": "aCvpsRnydLOx"
      },
      "source": [
        "from torch import nn\n",
        "\n",
        "class Lambda(nn.Module):\n",
        "  def __init__(self, fn):\n",
        "    super(Lambda, self).__init__()\n",
        "    self.fn = fn\n",
        "\n",
        "  def forward(self, x):\n",
        "    return self.fn(x)\n",
        "\n",
        "model = nn.Sequential(\n",
        "  nn.Conv2d(1, 32, 3), # 28x28x32 -> 26x26x32\n",
        "  nn.ReLU(),\n",
        "  nn.Conv2d(32, 64, 3), # 26x26x64 -> 24x24x64\n",
        "  nn.ReLU(),\n",
        "  nn.MaxPool2d(2, 2), # 24x24x64 -> 12x12x64\n",
        "  nn.Dropout2d(),\n",
        "  Lambda(lambda x: x.view(-1, 12 * 12 * 64)),\n",
        "  nn.Linear(12 * 12 * 64, 128),\n",
        "  nn.ReLU(),\n",
        "  nn.Dropout2d(),\n",
        "  nn.Linear(128, 10)\n",
        ").to(device)"
      ],
      "execution_count": null,
      "outputs": []
    },
    {
      "cell_type": "code",
      "metadata": {
        "id": "1InBRaELdbxu"
      },
      "source": [
        "# model = Net().to(device)\n",
        "def forward(X):\n",
        "  return model(X)\n",
        "\n",
        "def loss(y_pred, y):\n",
        "  return pt.nn.functional.cross_entropy(y_pred, y)\n",
        "\n",
        "optimizer = pt.optim.AdamW(model.parameters())"
      ],
      "execution_count": null,
      "outputs": []
    },
    {
      "cell_type": "code",
      "metadata": {
        "id": "ykLChClbt6hs"
      },
      "source": [
        "class ConfusionMatrix():\n",
        "  def __init__(self, classes):\n",
        "    self.classes = classes\n",
        "    self.side = len(classes)\n",
        "    self.values = np.zeros( (self.side, self.side) )\n",
        "    self.total = int(0)\n",
        "\n",
        "  def average_accuracy(self):\n",
        "    return (self.values.diagonal() / self.values.sum(axis = 1).astype(float)).mean()\n",
        "\n",
        "  def __call__(self, y_pred, y):\n",
        "    for row, col in zip(y_pred, y):\n",
        "      self.values[row, col] += 1      \n",
        "    self.total += len(y_pred)\n",
        "    return self\n",
        "\n",
        "  def update(self, y_pred, y):\n",
        "    return self.__call__(y_pred, y)\n",
        "\n",
        "  def __repr__(self):\n",
        "    msg = \"\"\n",
        "    for i in range(self.side):\n",
        "      msg += \"{}: {:.2f}% \".format(self.classes[i], 100.0 * (self.values[i, i] / self.values[i,:].sum()))\n",
        "    return msg\n",
        "\n",
        "\n",
        "TOY_CLASSES = ['Hot dog', 'Not hot dog']\n",
        "confusion_matrix = ConfusionMatrix(TOY_CLASSES)\n",
        "confusion_matrix([0,1], [0,1])"
      ],
      "execution_count": null,
      "outputs": []
    },
    {
      "cell_type": "code",
      "metadata": {
        "id": "A3g_h4KuuBxs"
      },
      "source": [
        "plt.imshow(confusion_matrix.values, cmap = 'binary')\n",
        "plt.xticks(np.arange(len(TOY_CLASSES)), TOY_CLASSES, rotation = 90)\n",
        "plt.yticks(np.arange(len(TOY_CLASSES)), TOY_CLASSES);\n",
        "plt.colorbar();\n",
        "confusion_matrix.average_accuracy()"
      ],
      "execution_count": null,
      "outputs": []
    },
    {
      "cell_type": "code",
      "metadata": {
        "id": "OUfgkTRDdhUZ"
      },
      "source": [
        "training_cm = ConfusionMatrix(CLASSES)\n",
        "EPOCHS = 5\n",
        "for epoch in range(EPOCHS):\n",
        "  running_loss = 0.0\n",
        "  for batch_idx, (X_batch, y_batch) in enumerate(train_dl):\n",
        "\n",
        "      y_pred_batch = forward(X_batch)\n",
        "\n",
        "      xe = loss(y_pred_batch, y_batch.to(device))\n",
        "      \n",
        "      training_cm.update(y_pred_batch.argmax(dim = 1).cpu().detach().numpy(), \n",
        "                          y_batch.cpu().detach().numpy())\n",
        "      if batch_idx % 1000 == 0:\n",
        "        print(\"Loss: \", xe.data, \" Metric: \", training_cm.average_accuracy())\n",
        "\n",
        "      xe.backward()\n",
        "\n",
        "      optimizer.step()\n",
        "      optimizer.zero_grad()                \n",
        "\n",
        "  print(training_cm)"
      ],
      "execution_count": null,
      "outputs": []
    },
    {
      "cell_type": "code",
      "metadata": {
        "id": "M1fW9-lmqifI"
      },
      "source": [
        "plt.imshow(training_cm.values, cmap = 'binary')\n",
        "plt.xticks(np.arange(len(CLASSES)), CLASSES, rotation = 90)\n",
        "plt.yticks(np.arange(len(CLASSES)), CLASSES);\n",
        "plt.colorbar();"
      ],
      "execution_count": null,
      "outputs": []
    },
    {
      "cell_type": "markdown",
      "metadata": {
        "id": "-VcU6arT-z_B"
      },
      "source": [
        "Copyright 2021 CounterFactual.AI LLC. Licensed under the Apache License, Version 2.0 (the \"License\"); you may not use this file except in compliance with the License. You may obtain a copy of the License at http://www.apache.org/licenses/LICENSE-2.0 Unless required by applicable law or agreed to in writing, software distributed under the License is distributed on an \"AS IS\" BASIS, WITHOUT WARRANTIES OR CONDITIONS OF ANY KIND, either express or implied. See the License for the specific language governing permissions and limitations under the License."
      ]
    }
  ]
}