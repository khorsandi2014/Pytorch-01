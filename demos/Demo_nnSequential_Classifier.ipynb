{
  "nbformat": 4,
  "nbformat_minor": 0,
  "metadata": {
    "colab": {
      "name": "Demo_nnSequential_Classifier",
      "provenance": [],
      "collapsed_sections": []
    },
    "kernelspec": {
      "name": "python3",
      "display_name": "Python 3"
    },
    "accelerator": "GPU"
  },
  "cells": [
    {
      "cell_type": "code",
      "metadata": {
        "id": "Xc1d4ZuFCmgW"
      },
      "source": [
        "import torch as pt\n",
        "from torch import nn\n",
        "import matplotlib.pyplot as plt\n",
        "%matplotlib inline\n",
        "pt.manual_seed(1);"
      ],
      "execution_count": null,
      "outputs": []
    },
    {
      "cell_type": "code",
      "metadata": {
        "id": "f8kaVXfT3Ypb",
        "colab": {
          "base_uri": "https://localhost:8080/",
          "height": 269
        },
        "outputId": "39091edf-3e32-4bed-e654-68971e315db2"
      },
      "source": [
        "NUM = 100\n",
        "\n",
        "#X spam data points \n",
        "\n",
        "#lower left\n",
        "Xs1 = pt.normal(0, 3, [NUM // 2, 2]) - 5\n",
        "#upper right\n",
        "Xs2 = pt.normal(0, 3, [NUM // 2, 2]) + 5\n",
        "\n",
        "#100 spam data points\n",
        "Xs = pt.cat([Xs1, Xs2])\n",
        "\n",
        "\n",
        "#X not spam data points\n",
        "#upper left\n",
        "Xns1 = pt.normal(0, 3, [NUM // 2, 2]) + 5\n",
        "Xns1[:, 1] = Xns1[:, 1] - 10\n",
        "\n",
        "#lower right\n",
        "Xns2 = pt.normal(0, 3, [NUM // 2, 2]) - 5\n",
        "Xns2[:, 1] = Xns2[:, 1] + 10\n",
        "\n",
        "#100 not spam data points\n",
        "Xns = pt.cat([Xns1, Xns2])\n",
        "\n",
        "#200 data points, 100 spam, 100 not spam\n",
        "X = pt.cat([Xs, Xns])\n",
        "\n",
        "plt.scatter(X[:NUM, 0], X[:NUM, 1], color = 'orange');\n",
        "\n",
        "plt.scatter(X[NUM:, 0], X[NUM:, 1], color = 'blue');\n",
        "\n",
        "plt.xlim([-10, 10])\n",
        "plt.ylim([-10, 10]);"
      ],
      "execution_count": null,
      "outputs": [
        {
          "output_type": "display_data",
          "data": {
            "image/png": "[encoded data removed]",
            "text/plain": [
              "<Figure size 432x288 with 1 Axes>"
            ]
          },
          "metadata": {
            "tags": [],
            "needs_background": "light"
          }
        }
      ]
    },
    {
      "cell_type": "code",
      "metadata": {
        "id": "zsXnV1NYPYAJ",
        "colab": {
          "base_uri": "https://localhost:8080/",
          "height": 170
        },
        "outputId": "33d98b39-7779-4c8d-cdd4-c8af2c4e4529"
      },
      "source": [
        "# #spam = 1, not spam = 0\n",
        "y = pt.cat( ( pt.ones(NUM).to(int), pt.zeros(NUM).to(int)), dim = 0 )\n",
        "y"
      ],
      "execution_count": null,
      "outputs": [
        {
          "output_type": "execute_result",
          "data": {
            "text/plain": [
              "tensor([1, 1, 1, 1, 1, 1, 1, 1, 1, 1, 1, 1, 1, 1, 1, 1, 1, 1, 1, 1, 1, 1, 1, 1,\n",
              "        1, 1, 1, 1, 1, 1, 1, 1, 1, 1, 1, 1, 1, 1, 1, 1, 1, 1, 1, 1, 1, 1, 1, 1,\n",
              "        1, 1, 1, 1, 1, 1, 1, 1, 1, 1, 1, 1, 1, 1, 1, 1, 1, 1, 1, 1, 1, 1, 1, 1,\n",
              "        1, 1, 1, 1, 1, 1, 1, 1, 1, 1, 1, 1, 1, 1, 1, 1, 1, 1, 1, 1, 1, 1, 1, 1,\n",
              "        1, 1, 1, 1, 0, 0, 0, 0, 0, 0, 0, 0, 0, 0, 0, 0, 0, 0, 0, 0, 0, 0, 0, 0,\n",
              "        0, 0, 0, 0, 0, 0, 0, 0, 0, 0, 0, 0, 0, 0, 0, 0, 0, 0, 0, 0, 0, 0, 0, 0,\n",
              "        0, 0, 0, 0, 0, 0, 0, 0, 0, 0, 0, 0, 0, 0, 0, 0, 0, 0, 0, 0, 0, 0, 0, 0,\n",
              "        0, 0, 0, 0, 0, 0, 0, 0, 0, 0, 0, 0, 0, 0, 0, 0, 0, 0, 0, 0, 0, 0, 0, 0,\n",
              "        0, 0, 0, 0, 0, 0, 0, 0])"
            ]
          },
          "metadata": {
            "tags": []
          },
          "execution_count": 3
        }
      ]
    },
    {
      "cell_type": "code",
      "metadata": {
        "id": "TjcW4Ww6OoFR"
      },
      "source": [
        "model = nn.Sequential(\n",
        "  nn.Linear(2, 3),\n",
        "  nn.ReLU(),\n",
        "  nn.Linear(3, 2),\n",
        "  nn.ReLU(),\n",
        "  nn.LogSoftmax(dim = 1)\n",
        ")\n",
        "\n",
        "def forward(X):\n",
        "  return model(X)\n",
        "\n",
        "def loss(y_pred, y):\n",
        "  return pt.nn.functional.nll_loss(y_pred, y)\n",
        "\n",
        "def metric(y_pred, y):\n",
        "  return (1 / len(y)) * ((y_pred.argmax(dim = 1) == y).sum())\n",
        "\n",
        "y_pred = model(X)\n",
        "loss(y_pred, y), metric(y_pred, y)\n",
        "\n",
        "optimizer = pt.optim.AdamW(model.parameters())"
      ],
      "execution_count": null,
      "outputs": []
    },
    {
      "cell_type": "code",
      "metadata": {
        "id": "36YBZELoYITn",
        "colab": {
          "base_uri": "https://localhost:8080/",
          "height": 1000
        },
        "outputId": "6a22c390-85ea-4911-966c-f9a86f1d0189"
      },
      "source": [
        "for i in range(10000):\n",
        "  y_pred = forward(X)\n",
        "  xe = loss(y_pred, y)\n",
        "  accuracy = metric(y_pred, y)\n",
        "  xe.backward()\n",
        "  if i % 100 == 0:\n",
        "    print(\"Loss: \", xe, \" Accuracy \", accuracy.data.item())#, \" Grads \", model.parameters())\n",
        "\n",
        "  optimizer.step()\n",
        "  optimizer.zero_grad()"
      ],
      "execution_count": null,
      "outputs": [
        {
          "output_type": "stream",
          "text": [
            "Loss:  tensor(0.8056, grad_fn=<NllLossBackward>)  Accuracy  0.5\n",
            "Loss:  tensor(0.6238, grad_fn=<NllLossBackward>)  Accuracy  0.574999988079071\n",
            "Loss:  tensor(0.5173, grad_fn=<NllLossBackward>)  Accuracy  0.8349999785423279\n",
            "Loss:  tensor(0.4546, grad_fn=<NllLossBackward>)  Accuracy  0.824999988079071\n",
            "Loss:  tensor(0.4149, grad_fn=<NllLossBackward>)  Accuracy  0.8399999737739563\n",
            "Loss:  tensor(0.3847, grad_fn=<NllLossBackward>)  Accuracy  0.8449999690055847\n",
            "Loss:  tensor(0.3635, grad_fn=<NllLossBackward>)  Accuracy  0.8499999642372131\n",
            "Loss:  tensor(0.3477, grad_fn=<NllLossBackward>)  Accuracy  0.8549999594688416\n",
            "Loss:  tensor(0.3336, grad_fn=<NllLossBackward>)  Accuracy  0.85999995470047\n",
            "Loss:  tensor(0.3208, grad_fn=<NllLossBackward>)  Accuracy  0.8650000095367432\n",
            "Loss:  tensor(0.3097, grad_fn=<NllLossBackward>)  Accuracy  0.8799999952316284\n",
            "Loss:  tensor(0.3015, grad_fn=<NllLossBackward>)  Accuracy  0.8849999904632568\n",
            "Loss:  tensor(0.2940, grad_fn=<NllLossBackward>)  Accuracy  0.8899999856948853\n",
            "Loss:  tensor(0.2846, grad_fn=<NllLossBackward>)  Accuracy  0.8999999761581421\n",
            "Loss:  tensor(0.2766, grad_fn=<NllLossBackward>)  Accuracy  0.8949999809265137\n",
            "Loss:  tensor(0.2701, grad_fn=<NllLossBackward>)  Accuracy  0.8999999761581421\n",
            "Loss:  tensor(0.2642, grad_fn=<NllLossBackward>)  Accuracy  0.8999999761581421\n",
            "Loss:  tensor(0.2518, grad_fn=<NllLossBackward>)  Accuracy  0.9049999713897705\n",
            "Loss:  tensor(0.2448, grad_fn=<NllLossBackward>)  Accuracy  0.9099999666213989\n",
            "Loss:  tensor(0.2402, grad_fn=<NllLossBackward>)  Accuracy  0.9099999666213989\n",
            "Loss:  tensor(0.2347, grad_fn=<NllLossBackward>)  Accuracy  0.9149999618530273\n",
            "Loss:  tensor(0.2309, grad_fn=<NllLossBackward>)  Accuracy  0.9149999618530273\n",
            "Loss:  tensor(0.2280, grad_fn=<NllLossBackward>)  Accuracy  0.9149999618530273\n",
            "Loss:  tensor(0.2257, grad_fn=<NllLossBackward>)  Accuracy  0.9149999618530273\n",
            "Loss:  tensor(0.2239, grad_fn=<NllLossBackward>)  Accuracy  0.9149999618530273\n",
            "Loss:  tensor(0.2223, grad_fn=<NllLossBackward>)  Accuracy  0.9149999618530273\n",
            "Loss:  tensor(0.2208, grad_fn=<NllLossBackward>)  Accuracy  0.9099999666213989\n",
            "Loss:  tensor(0.2195, grad_fn=<NllLossBackward>)  Accuracy  0.9099999666213989\n",
            "Loss:  tensor(0.2183, grad_fn=<NllLossBackward>)  Accuracy  0.9099999666213989\n",
            "Loss:  tensor(0.2171, grad_fn=<NllLossBackward>)  Accuracy  0.9149999618530273\n",
            "Loss:  tensor(0.2161, grad_fn=<NllLossBackward>)  Accuracy  0.9149999618530273\n",
            "Loss:  tensor(0.2152, grad_fn=<NllLossBackward>)  Accuracy  0.9149999618530273\n",
            "Loss:  tensor(0.2143, grad_fn=<NllLossBackward>)  Accuracy  0.9149999618530273\n",
            "Loss:  tensor(0.2136, grad_fn=<NllLossBackward>)  Accuracy  0.9149999618530273\n",
            "Loss:  tensor(0.2129, grad_fn=<NllLossBackward>)  Accuracy  0.9099999666213989\n",
            "Loss:  tensor(0.2121, grad_fn=<NllLossBackward>)  Accuracy  0.9099999666213989\n",
            "Loss:  tensor(0.2114, grad_fn=<NllLossBackward>)  Accuracy  0.9099999666213989\n",
            "Loss:  tensor(0.2108, grad_fn=<NllLossBackward>)  Accuracy  0.9099999666213989\n",
            "Loss:  tensor(0.2103, grad_fn=<NllLossBackward>)  Accuracy  0.9099999666213989\n",
            "Loss:  tensor(0.2098, grad_fn=<NllLossBackward>)  Accuracy  0.9099999666213989\n",
            "Loss:  tensor(0.2093, grad_fn=<NllLossBackward>)  Accuracy  0.9099999666213989\n",
            "Loss:  tensor(0.2089, grad_fn=<NllLossBackward>)  Accuracy  0.9099999666213989\n",
            "Loss:  tensor(0.2086, grad_fn=<NllLossBackward>)  Accuracy  0.9099999666213989\n",
            "Loss:  tensor(0.2083, grad_fn=<NllLossBackward>)  Accuracy  0.9099999666213989\n",
            "Loss:  tensor(0.2080, grad_fn=<NllLossBackward>)  Accuracy  0.9099999666213989\n",
            "Loss:  tensor(0.2063, grad_fn=<NllLossBackward>)  Accuracy  0.9049999713897705\n",
            "Loss:  tensor(0.2033, grad_fn=<NllLossBackward>)  Accuracy  0.9049999713897705\n",
            "Loss:  tensor(0.2019, grad_fn=<NllLossBackward>)  Accuracy  0.9049999713897705\n",
            "Loss:  tensor(0.2011, grad_fn=<NllLossBackward>)  Accuracy  0.9049999713897705\n",
            "Loss:  tensor(0.2004, grad_fn=<NllLossBackward>)  Accuracy  0.9049999713897705\n",
            "Loss:  tensor(0.1996, grad_fn=<NllLossBackward>)  Accuracy  0.9099999666213989\n",
            "Loss:  tensor(0.1985, grad_fn=<NllLossBackward>)  Accuracy  0.9099999666213989\n",
            "Loss:  tensor(0.1976, grad_fn=<NllLossBackward>)  Accuracy  0.9099999666213989\n",
            "Loss:  tensor(0.1971, grad_fn=<NllLossBackward>)  Accuracy  0.9099999666213989\n",
            "Loss:  tensor(0.1966, grad_fn=<NllLossBackward>)  Accuracy  0.9099999666213989\n",
            "Loss:  tensor(0.1962, grad_fn=<NllLossBackward>)  Accuracy  0.9099999666213989\n",
            "Loss:  tensor(0.1958, grad_fn=<NllLossBackward>)  Accuracy  0.9099999666213989\n",
            "Loss:  tensor(0.1955, grad_fn=<NllLossBackward>)  Accuracy  0.9099999666213989\n",
            "Loss:  tensor(0.1953, grad_fn=<NllLossBackward>)  Accuracy  0.9099999666213989\n",
            "Loss:  tensor(0.1950, grad_fn=<NllLossBackward>)  Accuracy  0.9099999666213989\n",
            "Loss:  tensor(0.1948, grad_fn=<NllLossBackward>)  Accuracy  0.9099999666213989\n",
            "Loss:  tensor(0.1946, grad_fn=<NllLossBackward>)  Accuracy  0.9099999666213989\n",
            "Loss:  tensor(0.1944, grad_fn=<NllLossBackward>)  Accuracy  0.9099999666213989\n",
            "Loss:  tensor(0.1943, grad_fn=<NllLossBackward>)  Accuracy  0.9099999666213989\n",
            "Loss:  tensor(0.1941, grad_fn=<NllLossBackward>)  Accuracy  0.9099999666213989\n",
            "Loss:  tensor(0.1940, grad_fn=<NllLossBackward>)  Accuracy  0.9099999666213989\n",
            "Loss:  tensor(0.1938, grad_fn=<NllLossBackward>)  Accuracy  0.9099999666213989\n",
            "Loss:  tensor(0.1935, grad_fn=<NllLossBackward>)  Accuracy  0.9049999713897705\n",
            "Loss:  tensor(0.1933, grad_fn=<NllLossBackward>)  Accuracy  0.9049999713897705\n",
            "Loss:  tensor(0.1930, grad_fn=<NllLossBackward>)  Accuracy  0.9049999713897705\n",
            "Loss:  tensor(0.1928, grad_fn=<NllLossBackward>)  Accuracy  0.9049999713897705\n",
            "Loss:  tensor(0.1927, grad_fn=<NllLossBackward>)  Accuracy  0.9049999713897705\n",
            "Loss:  tensor(0.1925, grad_fn=<NllLossBackward>)  Accuracy  0.9149999618530273\n",
            "Loss:  tensor(0.1925, grad_fn=<NllLossBackward>)  Accuracy  0.9199999570846558\n",
            "Loss:  tensor(0.1924, grad_fn=<NllLossBackward>)  Accuracy  0.9199999570846558\n",
            "Loss:  tensor(0.1924, grad_fn=<NllLossBackward>)  Accuracy  0.9149999618530273\n",
            "Loss:  tensor(0.1923, grad_fn=<NllLossBackward>)  Accuracy  0.9149999618530273\n",
            "Loss:  tensor(0.1923, grad_fn=<NllLossBackward>)  Accuracy  0.9199999570846558\n",
            "Loss:  tensor(0.1923, grad_fn=<NllLossBackward>)  Accuracy  0.9199999570846558\n",
            "Loss:  tensor(0.1923, grad_fn=<NllLossBackward>)  Accuracy  0.9199999570846558\n",
            "Loss:  tensor(0.1923, grad_fn=<NllLossBackward>)  Accuracy  0.9149999618530273\n",
            "Loss:  tensor(0.1923, grad_fn=<NllLossBackward>)  Accuracy  0.9199999570846558\n",
            "Loss:  tensor(0.1922, grad_fn=<NllLossBackward>)  Accuracy  0.9199999570846558\n",
            "Loss:  tensor(0.1922, grad_fn=<NllLossBackward>)  Accuracy  0.9199999570846558\n",
            "Loss:  tensor(0.1922, grad_fn=<NllLossBackward>)  Accuracy  0.9199999570846558\n",
            "Loss:  tensor(0.1922, grad_fn=<NllLossBackward>)  Accuracy  0.9149999618530273\n",
            "Loss:  tensor(0.1922, grad_fn=<NllLossBackward>)  Accuracy  0.9199999570846558\n",
            "Loss:  tensor(0.1922, grad_fn=<NllLossBackward>)  Accuracy  0.9199999570846558\n",
            "Loss:  tensor(0.1922, grad_fn=<NllLossBackward>)  Accuracy  0.9199999570846558\n",
            "Loss:  tensor(0.1922, grad_fn=<NllLossBackward>)  Accuracy  0.9199999570846558\n",
            "Loss:  tensor(0.1922, grad_fn=<NllLossBackward>)  Accuracy  0.9199999570846558\n",
            "Loss:  tensor(0.1922, grad_fn=<NllLossBackward>)  Accuracy  0.9199999570846558\n",
            "Loss:  tensor(0.1922, grad_fn=<NllLossBackward>)  Accuracy  0.9199999570846558\n",
            "Loss:  tensor(0.1922, grad_fn=<NllLossBackward>)  Accuracy  0.9149999618530273\n",
            "Loss:  tensor(0.1922, grad_fn=<NllLossBackward>)  Accuracy  0.9199999570846558\n",
            "Loss:  tensor(0.1922, grad_fn=<NllLossBackward>)  Accuracy  0.9199999570846558\n",
            "Loss:  tensor(0.1922, grad_fn=<NllLossBackward>)  Accuracy  0.9199999570846558\n",
            "Loss:  tensor(0.1922, grad_fn=<NllLossBackward>)  Accuracy  0.9199999570846558\n",
            "Loss:  tensor(0.1922, grad_fn=<NllLossBackward>)  Accuracy  0.9199999570846558\n",
            "Loss:  tensor(0.1922, grad_fn=<NllLossBackward>)  Accuracy  0.9149999618530273\n"
          ],
          "name": "stdout"
        }
      ]
    },
    {
      "cell_type": "code",
      "metadata": {
        "id": "fVX4sukThQcg",
        "colab": {
          "base_uri": "https://localhost:8080/",
          "height": 265
        },
        "outputId": "5898432a-dfa1-4344-949e-ccac52b77082"
      },
      "source": [
        "import numpy as np\n",
        "x_min, x_max, y_min, y_max, step = -15., 15, -15., 15., 0.5\n",
        "\n",
        "xx, yy = np.meshgrid(np.arange(x_min, x_max, step),\n",
        "                    np.arange(y_min, y_max, step))\n",
        "\n",
        "Xg = np.hstack( (xx.ravel()[:, None], yy.ravel()[:, None]) )\n",
        "\n",
        "\n",
        "X_test = pt.from_numpy(Xg).to(pt.float)\n",
        "y_test = forward(X_test).argmax(dim = 1).detach().numpy()\n",
        "\n",
        "Z = -1 * y_test.reshape(xx.shape)\n",
        "\n",
        "fig = plt.figure()\n",
        "plt.axis(\"equal\")\n",
        "plt.contourf(xx, yy, Z, cmap=plt.cm.Spectral, alpha=0.4);\n",
        "plt.scatter(X[:NUM, 0], X[:NUM, 1], color = 'orange');\n",
        "plt.scatter(X[NUM:, 0], X[NUM:, 1]);"
      ],
      "execution_count": null,
      "outputs": [
        {
          "output_type": "display_data",
          "data": {
            "image/png": "[encoded data removed]",
            "text/plain": [
              "<Figure size 432x288 with 1 Axes>"
            ]
          },
          "metadata": {
            "tags": [],
            "needs_background": "light"
          }
        }
      ]
    },
    {
      "cell_type": "markdown",
      "metadata": {
        "id": "hQcTrnKDioO3"
      },
      "source": [
        "Copyright 2021 CounterFactual.AI LLC. Licensed under the Apache License, Version 2.0 (the \"License\"); you may not use this file except in compliance with the License. You may obtain a copy of the License at http://www.apache.org/licenses/LICENSE-2.0 Unless required by applicable law or agreed to in writing, software distributed under the License is distributed on an \"AS IS\" BASIS, WITHOUT WARRANTIES OR CONDITIONS OF ANY KIND, either express or implied. See the License for the specific language governing permissions and limitations under the License."
      ]
    }
  ]
}