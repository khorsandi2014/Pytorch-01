{
  "nbformat": 4,
  "nbformat_minor": 0,
  "metadata": {
    "colab": {
      "name": "Demo_FeatEng_Optim",
      "provenance": [],
      "collapsed_sections": []
    },
    "kernelspec": {
      "name": "python3",
      "display_name": "Python 3"
    },
    "accelerator": "GPU"
  },
  "cells": [
    {
      "cell_type": "markdown",
      "metadata": {
        "id": "h6RGw6VFMw2v"
      },
      "source": [
        "## Feature engineering and `nn.optim` package to solve the famous `XOR` problem"
      ]
    },
    {
      "cell_type": "markdown",
      "metadata": {
        "id": "sNOZ7wGkM8T9"
      },
      "source": [
        "Start with your usual imports"
      ]
    },
    {
      "cell_type": "code",
      "metadata": {
        "id": "Xc1d4ZuFCmgW"
      },
      "source": [
        "import torch as pt\n",
        "import matplotlib.pyplot as plt\n",
        "%matplotlib inline\n",
        "pt.manual_seed(42);"
      ],
      "execution_count": null,
      "outputs": []
    },
    {
      "cell_type": "markdown",
      "metadata": {
        "id": "jkI5PP4B5ltB"
      },
      "source": [
        "The following generates and plots a randomly generated dataset of 100 spam and 100 non-spam data points where the points have the same property as with the `XOR` problem: a simple linear function can't accurately classify the points. However this problem can be solved using a feature engineering technique that you are going to implement shortly."
      ]
    },
    {
      "cell_type": "code",
      "metadata": {
        "id": "f8kaVXfT3Ypb",
        "colab": {
          "base_uri": "https://localhost:8080/",
          "height": 269
        },
        "outputId": "30fe42f1-dc9d-48ce-f106-7216a6ceed51"
      },
      "source": [
        "NUM = 100\n",
        "\n",
        "#X spam data points \n",
        "\n",
        "#lower left\n",
        "Xs1 = pt.normal(0, 3, [NUM // 2, 2]) - 5\n",
        "#upper right\n",
        "Xs2 = pt.normal(0, 3, [NUM // 2, 2]) + 5\n",
        "\n",
        "#100 spam data points\n",
        "Xs = pt.cat([Xs1, Xs2])\n",
        "\n",
        "\n",
        "#X not spam data points\n",
        "#upper left\n",
        "Xns1 = pt.normal(0, 3, [NUM // 2, 2]) + 5\n",
        "Xns1[:, 1] = Xns1[:, 1] - 10\n",
        "\n",
        "#lower right\n",
        "Xns2 = pt.normal(0, 3, [NUM // 2, 2]) - 5\n",
        "Xns2[:, 1] = Xns2[:, 1] + 10\n",
        "\n",
        "#100 not spam data points\n",
        "Xns = pt.cat([Xns1, Xns2])\n",
        "\n",
        "#200 data points, 100 spam, 100 not spam\n",
        "X = pt.cat([Xs, Xns])\n",
        "\n",
        "plt.scatter(X[:NUM, 0], X[:NUM, 1], color = 'orange');\n",
        "\n",
        "plt.scatter(X[NUM:, 0], X[NUM:, 1], color = 'blue');\n",
        "\n",
        "plt.xlim([-10, 10])\n",
        "plt.ylim([-10, 10]);"
      ],
      "execution_count": null,
      "outputs": [
        {
          "output_type": "display_data",
          "data": {
            "image/png": "[encoded data removed]",
            "text/plain": [
              "<Figure size 432x288 with 1 Axes>"
            ]
          },
          "metadata": {
            "tags": [],
            "needs_background": "light"
          }
        }
      ]
    },
    {
      "cell_type": "markdown",
      "metadata": {
        "id": "W7_vkAkr57yS"
      },
      "source": [
        "## Create a tensor named `y` to store your training targets (labels), using `1` for one class and `-1` for another. \n",
        "\n",
        "The resulting tensor should have the shape of `torch.Size([200])`"
      ]
    },
    {
      "cell_type": "code",
      "metadata": {
        "id": "xtvO06WVzDJA",
        "colab": {
          "base_uri": "https://localhost:8080/",
          "height": 34
        },
        "outputId": "c1b058ce-27d3-4b5c-c797-cd90c21d963c"
      },
      "source": [
        "y = pt.cat([pt.ones(NUM), -1 * pt.ones(NUM)])\n",
        "y.shape"
      ],
      "execution_count": null,
      "outputs": [
        {
          "output_type": "execute_result",
          "data": {
            "text/plain": [
              "torch.Size([200])"
            ]
          },
          "metadata": {
            "tags": []
          },
          "execution_count": 3
        }
      ]
    },
    {
      "cell_type": "markdown",
      "metadata": {
        "id": "FhHG1Kld6ZfH"
      },
      "source": [
        "## Modify the `X` tensor to add a cross-product feature\n",
        "\n",
        "The 3rd column of the `X` tensor should have the value of the product of the horizontal and vertical values of the data point.\n",
        "\n",
        "Once you are done, the updated `X` tensor should have the shape of `(torch.Size([200, 3])`"
      ]
    },
    {
      "cell_type": "code",
      "metadata": {
        "id": "ZxVrGWDl59Oe",
        "colab": {
          "base_uri": "https://localhost:8080/",
          "height": 34
        },
        "outputId": "22cb310a-f1c7-448b-fee0-9b5e2782f78a"
      },
      "source": [
        "Xp = (X[:, 0] * X[:, 1]).unsqueeze(dim = 1)\n",
        "X = pt.cat([X, Xp], dim = 1)\n",
        "\n",
        "X.shape"
      ],
      "execution_count": null,
      "outputs": [
        {
          "output_type": "execute_result",
          "data": {
            "text/plain": [
              "torch.Size([200, 3])"
            ]
          },
          "metadata": {
            "tags": []
          },
          "execution_count": 4
        }
      ]
    },
    {
      "cell_type": "markdown",
      "metadata": {
        "id": "RCoux2XF6z2I"
      },
      "source": [
        "## Implement the `forward`, `loss`, and `metric` methods"
      ]
    },
    {
      "cell_type": "code",
      "metadata": {
        "id": "wl0o1peB7Dzv"
      },
      "source": [
        "def forward(X):\n",
        "  return pt.sum(w * X, axis = 1)\n",
        "\n",
        "def loss(y_pred, y):\n",
        "  return ((y - y_pred) ** 2).mean()\n",
        "\n",
        "def metric(y_pred, y):\n",
        "  return pt.sum(((y > 0) & (y_pred > 0)) | ((y <= 0) & (y_pred <= 0))) * (1. / len(y))"
      ],
      "execution_count": null,
      "outputs": []
    },
    {
      "cell_type": "markdown",
      "metadata": {
        "id": "RTW5z0my67v4"
      },
      "source": [
        "## Create a tensor with model parameters (weights) and an instance of the `AdamW` optimizer for the model\n",
        "\n",
        "Don't forget to use `requires_grad` for the model parameters."
      ]
    },
    {
      "cell_type": "code",
      "metadata": {
        "id": "kYVgYvWA6_CD"
      },
      "source": [
        "w = pt.randn(3, requires_grad = True)\n",
        "\n",
        "optimizer = pt.optim.AdamW([w])"
      ],
      "execution_count": null,
      "outputs": []
    },
    {
      "cell_type": "markdown",
      "metadata": {
        "id": "jpWSMO647RuV"
      },
      "source": [
        "## Run 10 steps of gradient descent using your optimizer\n",
        "\n",
        "* **hint:** the `optimizer.step` function performs the update to the weights using the gradients you have computed using `backward`\n",
        "* **hint:** the `optimizer.zero_grad` function zeroes out the gradients\n",
        "\n"
      ]
    },
    {
      "cell_type": "code",
      "metadata": {
        "id": "7A38xbDW67Uc",
        "colab": {
          "base_uri": "https://localhost:8080/",
          "height": 34
        },
        "outputId": "f961ecdb-2b66-43ce-aebc-a93b75820257"
      },
      "source": [
        "for i in range(10):\n",
        "  y_pred = forward(X)\n",
        "  mse = loss(y_pred, y)\n",
        "  accuracy = metric(y_pred, y)\n",
        "  mse.backward()\n",
        "  optimizer.step()\n",
        "  optimizer.zero_grad()\n",
        "\n",
        "print(\"Loss: \", mse.data.item(), \" Accuracy: \", accuracy.data.item(), \" Grads: \", w.grad)"
      ],
      "execution_count": null,
      "outputs": [
        {
          "output_type": "stream",
          "text": [
            "Loss:  663.6553955078125  Accuracy:  0.9149999618530273  Grads:  tensor([0., 0., 0.])\n"
          ],
          "name": "stdout"
        }
      ]
    },
    {
      "cell_type": "markdown",
      "metadata": {
        "id": "ZKxulGyN9GXR"
      },
      "source": [
        "## You should be able to achieve the accuracy of about 90%. \n",
        "\n",
        "Since the points are overlapping in the dataset, you are not going to be able to classify them perfectly with this simplictic model."
      ]
    },
    {
      "cell_type": "markdown",
      "metadata": {
        "id": "juwae73di-7l"
      },
      "source": [
        "Copyright 2021 CounterFactual.AI LLC. Licensed under the Apache License, Version 2.0 (the \"License\"); you may not use this file except in compliance with the License. You may obtain a copy of the License at http://www.apache.org/licenses/LICENSE-2.0 Unless required by applicable law or agreed to in writing, software distributed under the License is distributed on an \"AS IS\" BASIS, WITHOUT WARRANTIES OR CONDITIONS OF ANY KIND, either express or implied. See the License for the specific language governing permissions and limitations under the License."
      ]
    }
  ]
}