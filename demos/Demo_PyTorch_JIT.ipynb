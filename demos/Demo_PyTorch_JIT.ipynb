{
  "nbformat": 4,
  "nbformat_minor": 0,
  "metadata": {
    "kernelspec": {
      "display_name": "Python 3",
      "language": "python",
      "name": "python3"
    },
    "language_info": {
      "codemirror_mode": {
        "name": "ipython",
        "version": 3
      },
      "file_extension": ".py",
      "mimetype": "text/x-python",
      "name": "python",
      "nbconvert_exporter": "python",
      "pygments_lexer": "ipython3",
      "version": "3.7.3"
    },
    "colab": {
      "name": "Demo_PyTorch_JIT.ipynb",
      "provenance": [],
      "collapsed_sections": []
    }
  },
  "cells": [
    {
      "cell_type": "markdown",
      "metadata": {
        "id": "A8tI3uiwaNb-"
      },
      "source": [
        "# Hooks\n",
        "Hooks are simple functions that can be registered to be called during the forward or backward pass of a `nn.Module`.\n",
        "These functions can be used to print out information or modify the module.\n",
        "\n",
        "Here is a simple forward hook example that prints some information about the input and output of a module.\n",
        "\n",
        "Tip: Don't forget to remove the hook afterwards!\n"
      ]
    },
    {
      "cell_type": "code",
      "metadata": {
        "id": "VtFun4zZaj9i"
      },
      "source": [
        "def tensorinfo_hook(module, input_, output):\n",
        "    \"\"\"\n",
        "    Register this forward hook to print some infos about the tensor/module.\n",
        "    \"\"\"\n",
        "    print(f\"Inside '{module.__class__.__name__}' forward\")\n",
        "    print(f\"  input:     {str(type(input_)):<25}\")\n",
        "    print(f\"  input[0]:  {str(type(input_[0])):<25} {input_[0].size()}\")\n",
        "    print(f\"  output:    {str(type(output)):<25} {output.data.size()}\")\n",
        "    print()"
      ],
      "execution_count": null,
      "outputs": []
    },
    {
      "cell_type": "code",
      "metadata": {
        "id": "epyyfPsOaW0N"
      },
      "source": [
        "import torch as pt\n",
        "import torch.nn as nn"
      ],
      "execution_count": null,
      "outputs": []
    },
    {
      "cell_type": "code",
      "metadata": {
        "id": "VmvlGn6uaaI5"
      },
      "source": [
        "model = nn.Linear(1, 3)"
      ],
      "execution_count": null,
      "outputs": []
    },
    {
      "cell_type": "code",
      "metadata": {
        "id": "PeObUro4adQ5"
      },
      "source": [
        "hook = model.register_forward_hook(tensorinfo_hook)"
      ],
      "execution_count": null,
      "outputs": []
    },
    {
      "cell_type": "code",
      "metadata": {
        "id": "HGThuDyGaonG"
      },
      "source": [
        "model(pt.rand(1));"
      ],
      "execution_count": null,
      "outputs": []
    },
    {
      "cell_type": "code",
      "metadata": {
        "id": "uWwB6-nYawIs"
      },
      "source": [
        "hook.remove()"
      ],
      "execution_count": null,
      "outputs": []
    },
    {
      "cell_type": "code",
      "metadata": {
        "id": "FsnX5h52ays8"
      },
      "source": [
        "model(pt.rand(1));"
      ],
      "execution_count": null,
      "outputs": []
    },
    {
      "cell_type": "markdown",
      "metadata": {
        "id": "4z6RQYJvbACe"
      },
      "source": [
        "## Exercise\n",
        "- Write a context manager hook that removes the hook when leaving the with block."
      ]
    },
    {
      "cell_type": "markdown",
      "metadata": {
        "id": "QdM0ciE-YoDN"
      },
      "source": [
        "# `torch.jit`\n",
        "\n",
        "Eager execution is great for development and debugging. but it can be hard to (automatically) optimize the code and deploy it.\n",
        "\n",
        "Now there is`torch.jit` with two flavours:\n",
        "\n",
        "- `torch.jit.trace` does not record control flow.\n",
        "- `torch.jit.script` records control flow and creates an intermediate representation that can be optimized; only supports a subset of Python.\n",
        "\n",
        "Note: don't forget `model.eval()` and `model.train()`."
      ]
    },
    {
      "cell_type": "markdown",
      "metadata": {
        "id": "slqNyskuYoDO"
      },
      "source": [
        "## Init, helpers, utils, ..."
      ]
    },
    {
      "cell_type": "code",
      "metadata": {
        "id": "i8W_lKdfYoDO"
      },
      "source": [
        "%matplotlib inline\n",
        "%load_ext autoreload\n",
        "%autoreload 2"
      ],
      "execution_count": null,
      "outputs": []
    },
    {
      "cell_type": "code",
      "metadata": {
        "id": "_VY-MnNCYoDS"
      },
      "source": [
        "import torch\n",
        "import torch.nn as nn\n",
        "import torch.nn.functional as F\n",
        "import torch.optim as optim\n",
        "import torchvision"
      ],
      "execution_count": null,
      "outputs": []
    },
    {
      "cell_type": "code",
      "metadata": {
        "id": "lPOsdUtqYoDV"
      },
      "source": [
        "from pprint import pprint\n",
        "\n",
        "import matplotlib.pyplot as plt\n",
        "import numpy as np\n",
        "from IPython.core.debugger import set_trace"
      ],
      "execution_count": null,
      "outputs": []
    },
    {
      "cell_type": "markdown",
      "metadata": {
        "id": "YI-7uSXfYoDY"
      },
      "source": [
        "# `torch.jit.trace`"
      ]
    },
    {
      "cell_type": "code",
      "metadata": {
        "id": "L39f4GJfYoDY"
      },
      "source": [
        "def f(x):\n",
        "    if x.item() < 0:\n",
        "        return torch.tensor(0)\n",
        "    else:\n",
        "        return x"
      ],
      "execution_count": null,
      "outputs": []
    },
    {
      "cell_type": "code",
      "metadata": {
        "id": "TwICGiahYoDb"
      },
      "source": [
        "f(torch.tensor(-1))"
      ],
      "execution_count": null,
      "outputs": []
    },
    {
      "cell_type": "code",
      "metadata": {
        "id": "UKQYUY6FYoDf"
      },
      "source": [
        "f(torch.tensor(3))"
      ],
      "execution_count": null,
      "outputs": []
    },
    {
      "cell_type": "code",
      "metadata": {
        "id": "r8wiBpVoYoDi"
      },
      "source": [
        "X = torch.tensor(1)\n",
        "traced = torch.jit.trace(f, X)"
      ],
      "execution_count": null,
      "outputs": []
    },
    {
      "cell_type": "code",
      "metadata": {
        "id": "rGxbllrMYoDm"
      },
      "source": [
        "type(traced)"
      ],
      "execution_count": null,
      "outputs": []
    },
    {
      "cell_type": "code",
      "metadata": {
        "id": "OSDatimRYoDo"
      },
      "source": [
        "traced(torch.tensor(1))"
      ],
      "execution_count": null,
      "outputs": []
    },
    {
      "cell_type": "code",
      "metadata": {
        "id": "YMhFj7gAYoDr"
      },
      "source": [
        "traced.graph"
      ],
      "execution_count": null,
      "outputs": []
    },
    {
      "cell_type": "code",
      "metadata": {
        "id": "VDDtFm4FYoDu"
      },
      "source": [
        "traced(torch.tensor(-1))"
      ],
      "execution_count": null,
      "outputs": []
    },
    {
      "cell_type": "markdown",
      "metadata": {
        "id": "LdCrpRVEYoDx"
      },
      "source": [
        "## Storing and restoring"
      ]
    },
    {
      "cell_type": "code",
      "metadata": {
        "id": "wnw9cNTbYoDy"
      },
      "source": [
        "traced.save(\"traced.pt\")"
      ],
      "execution_count": null,
      "outputs": []
    },
    {
      "cell_type": "code",
      "metadata": {
        "id": "NDgbCWzGYoD1"
      },
      "source": [
        "!ls -ltr *.pt"
      ],
      "execution_count": null,
      "outputs": []
    },
    {
      "cell_type": "code",
      "metadata": {
        "id": "frCbdiNMYoD3"
      },
      "source": [
        "g = torch.jit.load(\"traced.pt\")"
      ],
      "execution_count": null,
      "outputs": []
    },
    {
      "cell_type": "code",
      "metadata": {
        "id": "5ARD-iqhYoD6"
      },
      "source": [
        "g(torch.tensor(1))"
      ],
      "execution_count": null,
      "outputs": []
    },
    {
      "cell_type": "code",
      "metadata": {
        "id": "A8-1gtjGYoD9"
      },
      "source": [
        "g(torch.tensor(-1))"
      ],
      "execution_count": null,
      "outputs": []
    },
    {
      "cell_type": "markdown",
      "metadata": {
        "id": "Z7yngOuEYoEB"
      },
      "source": [
        "# `torch.jit.script`"
      ]
    },
    {
      "cell_type": "code",
      "metadata": {
        "id": "yA5n6UttYoEC"
      },
      "source": [
        "bool(torch.tensor(1) < 2)"
      ],
      "execution_count": null,
      "outputs": []
    },
    {
      "cell_type": "code",
      "metadata": {
        "id": "J9m9il5tYoEF"
      },
      "source": [
        "@torch.jit.script\n",
        "def f(x):\n",
        "    if bool(x < 0):\n",
        "        result = torch.zeros(1)\n",
        "    else:\n",
        "        result = x\n",
        "    return result"
      ],
      "execution_count": null,
      "outputs": []
    },
    {
      "cell_type": "markdown",
      "metadata": {
        "id": "AIBFnA0oYoEH"
      },
      "source": [
        "This is `torchscript` which is a only a subset of python."
      ]
    },
    {
      "cell_type": "code",
      "metadata": {
        "id": "GpCVllzAYoEI"
      },
      "source": [
        "f(torch.tensor(-1))"
      ],
      "execution_count": null,
      "outputs": []
    },
    {
      "cell_type": "code",
      "metadata": {
        "id": "3SLCT7b1YoEK"
      },
      "source": [
        "f(torch.tensor(1))"
      ],
      "execution_count": null,
      "outputs": []
    },
    {
      "cell_type": "code",
      "metadata": {
        "id": "IMYQ3S0vYoEO"
      },
      "source": [
        "type(f)"
      ],
      "execution_count": null,
      "outputs": []
    },
    {
      "cell_type": "code",
      "metadata": {
        "id": "xlLlFc9RYoEQ"
      },
      "source": [
        "f.graph"
      ],
      "execution_count": null,
      "outputs": []
    },
    {
      "cell_type": "markdown",
      "metadata": {
        "id": "40qWNoCAYoES"
      },
      "source": [
        "## Storing and restoring"
      ]
    },
    {
      "cell_type": "code",
      "metadata": {
        "id": "vHn8yz7dYoET"
      },
      "source": [
        "torch.jit.save(f, \"scripted.pt\")"
      ],
      "execution_count": null,
      "outputs": []
    },
    {
      "cell_type": "code",
      "metadata": {
        "id": "airFtXorYoEW"
      },
      "source": [
        "!ls -ltr scripted.pt"
      ],
      "execution_count": null,
      "outputs": []
    },
    {
      "cell_type": "code",
      "metadata": {
        "id": "WnbhmREVYoEa"
      },
      "source": [
        "g = torch.jit.load(\"scripted.pt\")"
      ],
      "execution_count": null,
      "outputs": []
    },
    {
      "cell_type": "code",
      "metadata": {
        "id": "ZtmcdJZ5YoEc"
      },
      "source": [
        "g(torch.tensor(-1))"
      ],
      "execution_count": null,
      "outputs": []
    },
    {
      "cell_type": "code",
      "metadata": {
        "id": "3BwFjfT9YoEe"
      },
      "source": [
        "g(torch.tensor(1))"
      ],
      "execution_count": null,
      "outputs": []
    },
    {
      "cell_type": "markdown",
      "metadata": {
        "id": "b8JXWKTTYoEg"
      },
      "source": [
        "## Subclassing `torch.jit.ScriptModule`\n",
        "If you work with `nn.Module` replace it by `torch.jit.ScriptModule` (see [[tutorial]](https://pytorch.org/tutorials/beginner/deploy_seq2seq_hybrid_frontend_tutorial.html) for more).\n",
        "\n",
        "```python\n",
        "class MyModule(torch.jit.ScriptModule):\n",
        "    def __init__(self):\n",
        "        super().__init__()\n",
        "        \n",
        "    def forward(self, x):\n",
        "        # ...\n",
        "        return x\n",
        "```"
      ]
    },
    {
      "cell_type": "markdown",
      "metadata": {
        "id": "vry_f1yyYoEh"
      },
      "source": [
        "# PyTorch and C++\n",
        "\n",
        "PyTorch offers a very nice(!) C++ interface which is very close to Python."
      ]
    },
    {
      "cell_type": "markdown",
      "metadata": {
        "id": "AHfLcQFGYoEh"
      },
      "source": [
        "## Loading traced models from C++"
      ]
    },
    {
      "cell_type": "markdown",
      "metadata": {
        "id": "ilhuQ9CUYoEh"
      },
      "source": [
        "```c++\n",
        "#include <torch/script.h>\n",
        "\n",
        "int main(int(argc, const char* argv[]) {\n",
        "    auto module = torch::jit::load(\"scrpted.pt\");\n",
        "    // data ...\n",
        "    module->forward(data);\n",
        "}\n",
        "```"
      ]
    },
    {
      "cell_type": "markdown",
      "metadata": {
        "id": "gRwYhlYEbV7u"
      },
      "source": [
        "Copyright 2021 CounterFactual.AI LLC. Licensed under the Apache License, Version 2.0 (the \"License\"); you may not use this file except in compliance with the License. You may obtain a copy of the License at http://www.apache.org/licenses/LICENSE-2.0 Unless required by applicable law or agreed to in writing, software distributed under the License is distributed on an \"AS IS\" BASIS, WITHOUT WARRANTIES OR CONDITIONS OF ANY KIND, either express or implied. See the License for the specific language governing permissions and limitations under the License."
      ]
    }
  ]
}