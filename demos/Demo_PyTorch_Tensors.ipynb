{
  "nbformat": 4,
  "nbformat_minor": 0,
  "metadata": {
    "accelerator": "GPU",
    "colab": {
      "name": "Demo_PyTorch_Tensors.ipynb by Ray",
      "provenance": [],
      "collapsed_sections": []
    },
    "kernelspec": {
      "display_name": "Python 3",
      "language": "python",
      "name": "python3"
    },
    "language_info": {
      "codemirror_mode": {
        "name": "ipython",
        "version": 3
      },
      "file_extension": ".py",
      "mimetype": "text/x-python",
      "name": "python",
      "nbconvert_exporter": "python",
      "pygments_lexer": "ipython3",
      "version": "3.7.3"
    }
  },
  "cells": [
    {
      "cell_type": "markdown",
      "metadata": {
        "id": "6ezwfR9XH48p"
      },
      "source": [
        "# Python Doesn't Have Good Numeric Support\n",
        "* Python integers are actually an object with header and typing information\n",
        "* access to Python integers requires a level of indirection\n",
        "* In C, integers are directly accessible in memory without indirection\n",
        "<img src=\"https://github.com/osipov/edu/raw/master/pyt0/images/python-01.png\" width=700 height=400>"
      ]
    },
    {
      "cell_type": "markdown",
      "metadata": {
        "id": "mbEvFTCAH48q"
      },
      "source": [
        "## The Problem is Even Worse for Python Lists \n",
        "* Python lists are immensely flexible\n",
        "  * no fixed size\n",
        "  * OK to have heterogeneous data\n",
        "* ...but as a result they are not likely to be contiguous in memory\n",
        "* and even if they are, there is still a lot of indirection required\n",
        "* so they aren't good for fast number crunching\n",
        "<img src=\"https://github.com/osipov/edu/raw/master/pyt0/images/python-02.png\" width=700 height=700>"
      ]
    },
    {
      "cell_type": "code",
      "metadata": {
        "id": "fkS_WcY2coaj"
      },
      "source": [
        "pylist = list(range(1_000_000))\n",
        "%timeit [i + 1 for i in pylist]"
      ],
      "execution_count": null,
      "outputs": []
    },
    {
      "cell_type": "markdown",
      "metadata": {
        "id": "FSYxb3LHH48r"
      },
      "source": [
        "## One solution is to use PyTorch tensors\n",
        "* written in C++\n",
        "* allows for vectorized operations"
      ]
    },
    {
      "cell_type": "code",
      "metadata": {
        "id": "1de2VLpWc9pb"
      },
      "source": [
        "import torch as pt\n",
        "pt.__version__"
      ],
      "execution_count": null,
      "outputs": []
    },
    {
      "cell_type": "markdown",
      "metadata": {
        "id": "caPLdVBO9ujf"
      },
      "source": [
        "## PyTorch Scalars"
      ]
    },
    {
      "cell_type": "code",
      "metadata": {
        "id": "LY0vW0RpPZZ0"
      },
      "source": [
        "pt.tensor(42)"
      ],
      "execution_count": null,
      "outputs": []
    },
    {
      "cell_type": "code",
      "metadata": {
        "id": "25baYf_vbqWM"
      },
      "source": [
        "pt.tensor(42).dtype"
      ],
      "execution_count": null,
      "outputs": []
    },
    {
      "cell_type": "code",
      "metadata": {
        "id": "Ytahj47q9ujw"
      },
      "source": [
        "pt.tensor(42).shape"
      ],
      "execution_count": null,
      "outputs": []
    },
    {
      "cell_type": "code",
      "metadata": {
        "id": "hdL_I5919ujz"
      },
      "source": [
        "len(pt.tensor(42).shape) == 0"
      ],
      "execution_count": null,
      "outputs": []
    },
    {
      "cell_type": "code",
      "metadata": {
        "id": "7lOOodHGPRz_"
      },
      "source": [
        "pt.tensor(3.14).dtype"
      ],
      "execution_count": null,
      "outputs": []
    },
    {
      "cell_type": "code",
      "metadata": {
        "id": "ThH9pmxcPdpA"
      },
      "source": [
        "pt.tensor(3.14).item()"
      ],
      "execution_count": null,
      "outputs": []
    },
    {
      "cell_type": "code",
      "metadata": {
        "id": "7Ht1V2Zl9ujr"
      },
      "source": [
        "pt.tensor(3.14).item() == 3.14"
      ],
      "execution_count": null,
      "outputs": []
    },
    {
      "cell_type": "markdown",
      "metadata": {
        "id": "j_-cjPNM9uj1"
      },
      "source": [
        "## IEEE Standard for Floating-Point Arithmetic (IEEE 754) \n",
        "* a refresher on floating point precision issues"
      ]
    },
    {
      "cell_type": "code",
      "metadata": {
        "id": "Y2htN9eA9uj2"
      },
      "source": [
        "x = 0.3\n",
        "x"
      ],
      "execution_count": null,
      "outputs": []
    },
    {
      "cell_type": "code",
      "metadata": {
        "id": "pT8Rrdzl9uj5"
      },
      "source": [
        "3 * 0.1 == x"
      ],
      "execution_count": null,
      "outputs": []
    },
    {
      "cell_type": "code",
      "metadata": {
        "id": "STHfElvB9uj7"
      },
      "source": [
        "3 * 0.1"
      ],
      "execution_count": null,
      "outputs": []
    },
    {
      "cell_type": "code",
      "metadata": {
        "id": "YQ94ixYm9uj-"
      },
      "source": [
        "x = pt.tensor(3.14)"
      ],
      "execution_count": null,
      "outputs": []
    },
    {
      "cell_type": "code",
      "metadata": {
        "id": "nQ_uYK5m9ukA"
      },
      "source": [
        "x.to(pt.uint8).item()"
      ],
      "execution_count": null,
      "outputs": []
    },
    {
      "cell_type": "code",
      "metadata": {
        "id": "rzklhoHV9ukC"
      },
      "source": [
        "pt.tensor(x.to(pt.uint8))"
      ],
      "execution_count": null,
      "outputs": []
    },
    {
      "cell_type": "code",
      "metadata": {
        "id": "GOxg1jGe9ukG"
      },
      "source": [
        "pt.tensor(x.to(pt.uint8).item(), dtype = pt.float32)"
      ],
      "execution_count": null,
      "outputs": []
    },
    {
      "cell_type": "markdown",
      "metadata": {
        "id": "GiSWaSveH488"
      },
      "source": [
        "## __pt.trunc()__\n",
        "\n",
        "* nearest integer __`i`__ which is closer to zero than __`x`__ is"
      ]
    },
    {
      "cell_type": "code",
      "metadata": {
        "id": "jhY3NNOAH489"
      },
      "source": [
        "pt.trunc(x)"
      ],
      "execution_count": null,
      "outputs": []
    },
    {
      "cell_type": "code",
      "metadata": {
        "id": "OQMiYX8n9ukM"
      },
      "source": [
        "pt.trunc(pt.tensor(2.01)).dtype"
      ],
      "execution_count": null,
      "outputs": []
    },
    {
      "cell_type": "markdown",
      "metadata": {
        "id": "k1Ep0DqVH48_"
      },
      "source": [
        "## __pt.floor()__\n",
        "\n",
        "* the largest integer __`i`__, such that __`i <= x`__"
      ]
    },
    {
      "cell_type": "code",
      "metadata": {
        "id": "zm7-466kH49A"
      },
      "source": [
        "pt.floor(x)"
      ],
      "execution_count": null,
      "outputs": []
    },
    {
      "cell_type": "code",
      "metadata": {
        "id": "ttPIoTNmH49E"
      },
      "source": [
        "pt.floor(pt.tensor(2.01))"
      ],
      "execution_count": null,
      "outputs": []
    },
    {
      "cell_type": "code",
      "metadata": {
        "id": "0xnpXNzrH49G"
      },
      "source": [
        "pt.floor(pt.tensor(2.))"
      ],
      "execution_count": null,
      "outputs": []
    },
    {
      "cell_type": "code",
      "metadata": {
        "id": "2y_1mlNM9ukW"
      },
      "source": [
        "pt.floor(pt.tensor(-3.14))"
      ],
      "execution_count": null,
      "outputs": []
    },
    {
      "cell_type": "markdown",
      "metadata": {
        "id": "J08a-VkKH49J"
      },
      "source": [
        "## __pt.ceil()__\n",
        "\n",
        "* the smallest integer __`i`__, such that __`i >= x`__"
      ]
    },
    {
      "cell_type": "code",
      "metadata": {
        "id": "iIKHAB8MH49K"
      },
      "source": [
        "pt.ceil(x)"
      ],
      "execution_count": null,
      "outputs": []
    },
    {
      "cell_type": "code",
      "metadata": {
        "id": "ljyv7AgVH49N"
      },
      "source": [
        "pt.ceil(pt.tensor(2.01))"
      ],
      "execution_count": null,
      "outputs": []
    },
    {
      "cell_type": "code",
      "metadata": {
        "id": "wVDpB1NBH49S"
      },
      "source": [
        "pt.ceil(pt.tensor(2.))"
      ],
      "execution_count": null,
      "outputs": []
    },
    {
      "cell_type": "markdown",
      "metadata": {
        "id": "My_UkuVM9ukk"
      },
      "source": [
        "* can __pt.ceil()__ be used in place of __pt.floor()__ ?"
      ]
    },
    {
      "cell_type": "code",
      "metadata": {
        "id": "KOhbtHaqH49U"
      },
      "source": [
        "pt.ceil(x) - 1"
      ],
      "execution_count": null,
      "outputs": []
    },
    {
      "cell_type": "code",
      "metadata": {
        "id": "a4Fx2HAmH49W"
      },
      "source": [
        "pt.ceil(pt.tensor(2.01)) - 1"
      ],
      "execution_count": null,
      "outputs": []
    },
    {
      "cell_type": "code",
      "metadata": {
        "id": "u-IVaToe9ukp"
      },
      "source": [
        "pt.ceil(pt.tensor(2.)) - 1"
      ],
      "execution_count": null,
      "outputs": []
    },
    {
      "cell_type": "markdown",
      "metadata": {
        "id": "snVbqgra_2rM"
      },
      "source": [
        "## PyTorch arrays\n",
        "* data is stored contiguously in memory"
      ]
    },
    {
      "cell_type": "code",
      "metadata": {
        "id": "iYPeREHmH49Z"
      },
      "source": [
        "# pytorch will infer the data type\n",
        "a = pt.tensor([1, 4, 2, 5, 3])\n",
        "a, a.dtype"
      ],
      "execution_count": null,
      "outputs": []
    },
    {
      "cell_type": "code",
      "metadata": {
        "id": "bLLlBh0jH49c"
      },
      "source": [
        "a = pt.tensor([3.14, 4, 2, 3])\n",
        "a, a.dtype"
      ],
      "execution_count": null,
      "outputs": []
    },
    {
      "cell_type": "code",
      "metadata": {
        "id": "Fqro-1wrH49f"
      },
      "source": [
        "# ...or you can be explicit\n",
        "a = pt.tensor([1, 2, 3, 4], dtype=pt.float32)\n",
        "a"
      ],
      "execution_count": null,
      "outputs": []
    },
    {
      "cell_type": "code",
      "metadata": {
        "id": "HjPq14z3H49i"
      },
      "source": [
        "pt.tensor([range(i, i + 3) for i in [2, 4, 6]])"
      ],
      "execution_count": null,
      "outputs": []
    },
    {
      "cell_type": "code",
      "metadata": {
        "id": "QCRdAkhZH49k"
      },
      "source": [
        "pt.zeros(10, dtype=int)"
      ],
      "execution_count": null,
      "outputs": []
    },
    {
      "cell_type": "code",
      "metadata": {
        "id": "JEYfcy4AH49m"
      },
      "source": [
        "pt.ones((3, 5), dtype=float)"
      ],
      "execution_count": null,
      "outputs": []
    },
    {
      "cell_type": "code",
      "metadata": {
        "id": "_XWOYKMhH493"
      },
      "source": [
        "pt.eye(5)"
      ],
      "execution_count": null,
      "outputs": []
    },
    {
      "cell_type": "code",
      "metadata": {
        "id": "PujnAxmFH49o"
      },
      "source": [
        "pt.full((3, 5), 42, dtype=int)"
      ],
      "execution_count": null,
      "outputs": []
    },
    {
      "cell_type": "code",
      "metadata": {
        "id": "gL4aEPnBH49q"
      },
      "source": [
        "pt.arange(0, 20, 2)"
      ],
      "execution_count": null,
      "outputs": []
    },
    {
      "cell_type": "code",
      "metadata": {
        "id": "ousQ2uqKH49u"
      },
      "source": [
        "pt.linspace(0, 1, 5)"
      ],
      "execution_count": null,
      "outputs": []
    },
    {
      "cell_type": "markdown",
      "metadata": {
        "id": "mieISOa19ulG"
      },
      "source": [
        "## Pseudo-Random Numbers"
      ]
    },
    {
      "cell_type": "code",
      "metadata": {
        "id": "FLFPJxZF9ulG"
      },
      "source": [
        "pt.manual_seed(0);"
      ],
      "execution_count": null,
      "outputs": []
    },
    {
      "cell_type": "code",
      "metadata": {
        "id": "WLiVKYOTH49w"
      },
      "source": [
        "pt.randn(3, 3)"
      ],
      "execution_count": null,
      "outputs": []
    },
    {
      "cell_type": "code",
      "metadata": {
        "id": "r4_XJFMaH49y"
      },
      "source": [
        "pt.normal(0, 1, size = (3, 3))\n"
      ],
      "execution_count": null,
      "outputs": []
    },
    {
      "cell_type": "code",
      "metadata": {
        "id": "WnG1muSdH491"
      },
      "source": [
        "pt.randint(0, 10, (3, 3))"
      ],
      "execution_count": null,
      "outputs": []
    },
    {
      "cell_type": "markdown",
      "metadata": {
        "id": "Hn7sHGfRH496"
      },
      "source": [
        "## Converting array types"
      ]
    },
    {
      "cell_type": "code",
      "metadata": {
        "id": "VkeIohcuH496"
      },
      "source": [
        "x = pt.linspace(0, 10, 50)\n",
        "x"
      ],
      "execution_count": null,
      "outputs": []
    },
    {
      "cell_type": "code",
      "metadata": {
        "id": "a6oEEQCcH498"
      },
      "source": [
        "x.to(int)"
      ],
      "execution_count": null,
      "outputs": []
    },
    {
      "cell_type": "markdown",
      "metadata": {
        "id": "5OHltxoYH49-"
      },
      "source": [
        "## Multi-dimensional Arrays"
      ]
    },
    {
      "cell_type": "code",
      "metadata": {
        "id": "gst_0xQ9H49_"
      },
      "source": [
        "x2 = pt.randint(10, size=[3, 4])\n",
        "x2"
      ],
      "execution_count": null,
      "outputs": []
    },
    {
      "cell_type": "markdown",
      "metadata": {
        "id": "gFB5i5tkH4-B"
      },
      "source": [
        "## True \"matrix-style\" indexing"
      ]
    },
    {
      "cell_type": "code",
      "metadata": {
        "id": "mgPXcIRSH4-B"
      },
      "source": [
        "x2[0, 0]"
      ],
      "execution_count": null,
      "outputs": []
    },
    {
      "cell_type": "code",
      "metadata": {
        "id": "JVrN3jBdH4-D"
      },
      "source": [
        "x2[2, 0]"
      ],
      "execution_count": null,
      "outputs": []
    },
    {
      "cell_type": "code",
      "metadata": {
        "id": "VDtNmlwiH4-F"
      },
      "source": [
        "x2[2, -1]"
      ],
      "execution_count": null,
      "outputs": []
    },
    {
      "cell_type": "code",
      "metadata": {
        "id": "sUurrqzUH4-H"
      },
      "source": [
        "x2[0, 0] = 12\n",
        "x2"
      ],
      "execution_count": null,
      "outputs": []
    },
    {
      "cell_type": "code",
      "metadata": {
        "id": "z7w0J4ZDH4-J"
      },
      "source": [
        "pt.arange(0, 9).reshape(3, 3)"
      ],
      "execution_count": null,
      "outputs": []
    },
    {
      "cell_type": "markdown",
      "metadata": {
        "id": "YavLAYX9H4-M"
      },
      "source": [
        "## Array Slicing"
      ]
    },
    {
      "cell_type": "code",
      "metadata": {
        "id": "iapW7b5jH4-N"
      },
      "source": [
        "x = pt.arange(10)\n",
        "x[:5]"
      ],
      "execution_count": null,
      "outputs": []
    },
    {
      "cell_type": "code",
      "metadata": {
        "id": "eNjX0OueH4-R"
      },
      "source": [
        "x[5:]"
      ],
      "execution_count": null,
      "outputs": []
    },
    {
      "cell_type": "code",
      "metadata": {
        "id": "KLRZuFo7H4-T"
      },
      "source": [
        "x[4:7]"
      ],
      "execution_count": null,
      "outputs": []
    },
    {
      "cell_type": "code",
      "metadata": {
        "id": "QALndZ3tH4-X"
      },
      "source": [
        "x[::2]"
      ],
      "execution_count": null,
      "outputs": []
    },
    {
      "cell_type": "code",
      "metadata": {
        "id": "B1b5L1xhH4-Z"
      },
      "source": [
        "x[1::2]"
      ],
      "execution_count": null,
      "outputs": []
    },
    {
      "cell_type": "code",
      "metadata": {
        "id": "8uAX1x4eH4-b"
      },
      "source": [
        "x[::-1] # :)"
      ],
      "execution_count": null,
      "outputs": []
    },
    {
      "cell_type": "code",
      "metadata": {
        "id": "j_F5K41e9ul1"
      },
      "source": [
        "reversed(x)"
      ],
      "execution_count": null,
      "outputs": []
    },
    {
      "cell_type": "code",
      "metadata": {
        "id": "WjDTL2xyH4-e"
      },
      "source": [
        "reversed(x)[5::2]"
      ],
      "execution_count": null,
      "outputs": []
    },
    {
      "cell_type": "markdown",
      "metadata": {
        "id": "J0azkBf7H4-h"
      },
      "source": [
        "## Filtering 1-dimensional data"
      ]
    },
    {
      "cell_type": "code",
      "metadata": {
        "id": "NALu7pJqH4-h"
      },
      "source": [
        "x = pt.tensor([ 1, 0, 5, 2, 1, 0, 8, 0, 0 ])"
      ],
      "execution_count": null,
      "outputs": []
    },
    {
      "cell_type": "code",
      "metadata": {
        "id": "LAW8kJJLH4-j"
      },
      "source": [
        "x.nonzero()"
      ],
      "execution_count": null,
      "outputs": []
    },
    {
      "cell_type": "code",
      "metadata": {
        "id": "-OZtPXI1H4-l"
      },
      "source": [
        "x[x.nonzero()]"
      ],
      "execution_count": null,
      "outputs": []
    },
    {
      "cell_type": "code",
      "metadata": {
        "id": "BeHSIE_MH4-o"
      },
      "source": [
        "x[x < 3]"
      ],
      "execution_count": null,
      "outputs": []
    },
    {
      "cell_type": "markdown",
      "metadata": {
        "id": "U7iuruo4H4-q"
      },
      "source": [
        "## Filtering 2-dimensional data"
      ]
    },
    {
      "cell_type": "code",
      "metadata": {
        "id": "nQmeV8mVH4-q"
      },
      "source": [
        "x = pt.tensor([[1, 0, 0], [0, 5, 0], [7, 8, 0]])\n",
        "x"
      ],
      "execution_count": null,
      "outputs": []
    },
    {
      "cell_type": "code",
      "metadata": {
        "id": "s-0coky5H4-s"
      },
      "source": [
        "# produces two arrays, one with x coords, one with y coords\n",
        "x.nonzero()"
      ],
      "execution_count": null,
      "outputs": []
    },
    {
      "cell_type": "code",
      "metadata": {
        "id": "OBtoNUxC9umD"
      },
      "source": [
        "x.nonzero(as_tuple = True)"
      ],
      "execution_count": null,
      "outputs": []
    },
    {
      "cell_type": "code",
      "metadata": {
        "id": "4oqoImh69umE"
      },
      "source": [
        "x[x.nonzero(as_tuple = True)]"
      ],
      "execution_count": null,
      "outputs": []
    },
    {
      "cell_type": "code",
      "metadata": {
        "id": "ILF5uDXn9umI"
      },
      "source": [
        "y = pt.arange(1, 10).reshape(3, 3)\n",
        "y"
      ],
      "execution_count": null,
      "outputs": []
    },
    {
      "cell_type": "code",
      "metadata": {
        "id": "mMJhqad39umJ"
      },
      "source": [
        "y.index_select(dim = 0, index = pt.tensor([0, 2]))"
      ],
      "execution_count": null,
      "outputs": []
    },
    {
      "cell_type": "code",
      "metadata": {
        "id": "CXue7JnFH4-u"
      },
      "source": [
        "y.index_select(dim = 1, index = pt.tensor([0, 2]))"
      ],
      "execution_count": null,
      "outputs": []
    },
    {
      "cell_type": "code",
      "metadata": {
        "id": "KlNLcrQ7H4-w"
      },
      "source": [
        "y.triu()"
      ],
      "execution_count": null,
      "outputs": []
    },
    {
      "cell_type": "code",
      "metadata": {
        "id": "TSQt0kmd9umO"
      },
      "source": [
        "y.tril()"
      ],
      "execution_count": null,
      "outputs": []
    },
    {
      "cell_type": "code",
      "metadata": {
        "id": "jVZh015S9umQ"
      },
      "source": [
        "y.tril().T #transpose"
      ],
      "execution_count": null,
      "outputs": []
    },
    {
      "cell_type": "markdown",
      "metadata": {
        "id": "23ED3b7BH4-y"
      },
      "source": [
        "## Multi-dimensional subarrays"
      ]
    },
    {
      "cell_type": "code",
      "metadata": {
        "id": "X_lAYYQqH4-z"
      },
      "source": [
        "x2"
      ],
      "execution_count": null,
      "outputs": []
    },
    {
      "cell_type": "code",
      "metadata": {
        "id": "ch7yUUl6H4-1"
      },
      "source": [
        "x2[:2, :3]"
      ],
      "execution_count": null,
      "outputs": []
    },
    {
      "cell_type": "code",
      "metadata": {
        "id": "Vlfjt5joH4-6"
      },
      "source": [
        "x2[:3, ::2]"
      ],
      "execution_count": null,
      "outputs": []
    },
    {
      "cell_type": "code",
      "metadata": {
        "id": "rSkSNj_F9umW"
      },
      "source": [
        "x2[::-1, ::-1]"
      ],
      "execution_count": null,
      "outputs": []
    },
    {
      "cell_type": "code",
      "metadata": {
        "id": "GPZCnkHYH4-8"
      },
      "source": [
        "reversed(x2)"
      ],
      "execution_count": null,
      "outputs": []
    },
    {
      "cell_type": "code",
      "metadata": {
        "id": "HNjacByr9uma"
      },
      "source": [
        "indices = pt.arange(x2.numel() - 1, -1, -1)\n",
        "indices"
      ],
      "execution_count": null,
      "outputs": []
    },
    {
      "cell_type": "code",
      "metadata": {
        "id": "y5tdmRlj9umd"
      },
      "source": [
        "pt.take(x2, indices).reshape(x2.shape) #x2[::-1, ::-1]"
      ],
      "execution_count": null,
      "outputs": []
    },
    {
      "cell_type": "markdown",
      "metadata": {
        "id": "9JSa9_ZEH4-_"
      },
      "source": [
        "## Subarray Views"
      ]
    },
    {
      "cell_type": "code",
      "metadata": {
        "id": "l9yeU_QvH4-_"
      },
      "source": [
        "x2, id(x2)"
      ],
      "execution_count": null,
      "outputs": []
    },
    {
      "cell_type": "code",
      "metadata": {
        "id": "LCVe4vdPH4_B"
      },
      "source": [
        "x2_sub = x2[:2, :2]\n",
        "x2_sub, id(x2_sub)"
      ],
      "execution_count": null,
      "outputs": []
    },
    {
      "cell_type": "code",
      "metadata": {
        "id": "caA9uw2mH4_D"
      },
      "source": [
        "x2_sub[0, 0] = 99\n",
        "x2_sub"
      ],
      "execution_count": null,
      "outputs": []
    },
    {
      "cell_type": "code",
      "metadata": {
        "id": "wvAPuETHH4_F"
      },
      "source": [
        "x2 # changes x2 as well, since the subarray has references to the original"
      ],
      "execution_count": null,
      "outputs": []
    },
    {
      "cell_type": "markdown",
      "metadata": {
        "id": "p1AgH9_7H4_M"
      },
      "source": [
        "## PyTorch ATen Functions\n",
        "* operate on tensors as on contiguous blobs of data in memory\n",
        "* _vectorized_ wrapper for a function that takes a fixed number of specific inputs and produces a fixed number of specific outputs"
      ]
    },
    {
      "cell_type": "markdown",
      "metadata": {
        "id": "xxsA3_L9H4_P"
      },
      "source": [
        "| Operator | ATen            | Description                         |\n",
        "|----------|-----------------|-------------------------------------|\n",
        "|   +      | pt.add          | Addition (e.g., 1 + 1 = 2)          |\n",
        "|   -      | pt.subtract     | Subtraction (e.g., 3 - 2 = 1)       |\n",
        "|   -      | pt.negative     | Unary negation (e.g., -2)           |\n",
        "|   *      | pt.multiply     | Multiplication (e.g., 2 * 3 = 6)    |\n",
        "|   /      | pt.divide       | Division (e.g., 3 / 2 = 1.5)        |\n",
        "|   //     | pt.floor_divide | Floor division (e.g., 3 // 2 = 1)   |\n",
        "|   **     | pt.power        | Exponentiation (e.g., 2 ** 3 = 8)   |\n",
        "|   %      | pt.mod          | Modulus/remainder (e.g., 9 % 4 = 1) |"
      ]
    },
    {
      "cell_type": "markdown",
      "metadata": {
        "id": "K7Hx62-vH4_G"
      },
      "source": [
        "## Vectorized Operations"
      ]
    },
    {
      "cell_type": "code",
      "metadata": {
        "id": "mirPQHg6c2LX"
      },
      "source": [
        "pytorch = pt.arange(1_000_000)\n",
        "%timeit pytorch + 1"
      ],
      "execution_count": null,
      "outputs": []
    },
    {
      "cell_type": "code",
      "metadata": {
        "id": "52zp8xGDH4_N"
      },
      "source": [
        "x = pt.arange(9).reshape((3, 3))\n",
        "2 ** x"
      ],
      "execution_count": null,
      "outputs": []
    },
    {
      "cell_type": "code",
      "metadata": {
        "id": "v6NQyezYH4_O"
      },
      "source": [
        "x = pt.arange(4)\n",
        "-(0.5 * x + 1) ** 2"
      ],
      "execution_count": null,
      "outputs": []
    },
    {
      "cell_type": "markdown",
      "metadata": {
        "id": "FXZVty5hH4_P"
      },
      "source": [
        "## Exponents and Logarithms "
      ]
    },
    {
      "cell_type": "code",
      "metadata": {
        "id": "PhMyaPSPH4_Q"
      },
      "source": [
        "x = pt.tensor([1., 2., 3.])\n",
        "pt.exp(x)"
      ],
      "execution_count": null,
      "outputs": []
    },
    {
      "cell_type": "code",
      "metadata": {
        "id": "zNI6HN93H4_U"
      },
      "source": [
        "pt.pow(3, x)"
      ],
      "execution_count": null,
      "outputs": []
    },
    {
      "cell_type": "code",
      "metadata": {
        "id": "fVrLwkgxH4_W"
      },
      "source": [
        "pt.log(pt.tensor([1., 2., 3.]))"
      ],
      "execution_count": null,
      "outputs": []
    },
    {
      "cell_type": "code",
      "metadata": {
        "id": "FvNKvOboH4_X"
      },
      "source": [
        "pt.log2(pt.tensor([1., 256., 65536.]))"
      ],
      "execution_count": null,
      "outputs": []
    },
    {
      "cell_type": "code",
      "metadata": {
        "id": "pzEyhXJCH4_b"
      },
      "source": [
        "pt.log10(pt.tensor([1_000., 1_000_000., 10. ** 10]))"
      ],
      "execution_count": null,
      "outputs": []
    },
    {
      "cell_type": "markdown",
      "metadata": {
        "id": "P1RwrRf0H4_d"
      },
      "source": [
        "## Aggregations"
      ]
    },
    {
      "cell_type": "code",
      "metadata": {
        "id": "fGPZwXV29um1"
      },
      "source": [
        "x = pt.arange(15).reshape(3, 5)\n",
        "x"
      ],
      "execution_count": null,
      "outputs": []
    },
    {
      "cell_type": "code",
      "metadata": {
        "id": "-ctBvP8N9um4"
      },
      "source": [
        "x.sum()"
      ],
      "execution_count": null,
      "outputs": []
    },
    {
      "cell_type": "code",
      "metadata": {
        "id": "mye3s4U19um5"
      },
      "source": [
        "x.sum(dim = 0)"
      ],
      "execution_count": null,
      "outputs": []
    },
    {
      "cell_type": "code",
      "metadata": {
        "id": "XxzZuj8A9um7"
      },
      "source": [
        "x.sum(dim = 1, keepdims = True)"
      ],
      "execution_count": null,
      "outputs": []
    },
    {
      "cell_type": "code",
      "metadata": {
        "id": "8F1FQ3mY9um8"
      },
      "source": [
        "x.sum(dim = 1)"
      ],
      "execution_count": null,
      "outputs": []
    },
    {
      "cell_type": "code",
      "metadata": {
        "id": "RF91QSDL9um-"
      },
      "source": [
        "x.to(float).mean(), x.to(float).std()"
      ],
      "execution_count": null,
      "outputs": []
    },
    {
      "cell_type": "markdown",
      "metadata": {
        "id": "QAcsKw25E0b7"
      },
      "source": [
        "Copyright 2021 CounterFactual.AI LLC. Licensed under the Apache License, Version 2.0 (the \"License\"); you may not use this file except in compliance with the License. You may obtain a copy of the License at http://www.apache.org/licenses/LICENSE-2.0 Unless required by applicable law or agreed to in writing, software distributed under the License is distributed on an \"AS IS\" BASIS, WITHOUT WARRANTIES OR CONDITIONS OF ANY KIND, either express or implied. See the License for the specific language governing permissions and limitations under the License."
      ]
    }
  ]
}
